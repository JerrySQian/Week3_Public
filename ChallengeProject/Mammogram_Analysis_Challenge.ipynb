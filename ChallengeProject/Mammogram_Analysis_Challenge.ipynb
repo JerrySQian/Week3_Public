{
  "nbformat": 4,
  "nbformat_minor": 0,
  "metadata": {
    "colab": {
      "name": "Jerry Q - Mammogram_Analysis_Challenge.ipynb",
      "provenance": [],
      "collapsed_sections": []
    },
    "kernelspec": {
      "display_name": "Python 3",
      "language": "python",
      "name": "python3"
    },
    "accelerator": "GPU"
  },
  "cells": [
    {
      "cell_type": "markdown",
      "metadata": {
        "id": "w9iIELyqJo0T",
        "colab_type": "text"
      },
      "source": [
        "# Mammogram Analysis Challenge\n",
        "\n",
        "A mammogram is an X-ray of the breast used primarily by radiologists to detect signs of breast cancer like abnormal masses and calcifications (signs of a possible tumor). Sometimes these abnormalities are obvious, sometimes they are not. In younger women especially, masses and calcifications can be difficult for radiologists to detect in a mammogram due to dense surrounding tissue. This makes mammograms a great candidate for machine learning analysis. A program that can detect abnormalities with high accuracy could be used to catch radiologists' mistakes and potentially save lives (in fact, it already is—https://giving.massgeneral.org/machine-learning-breast-cancer-screening)\n",
        "\n",
        "\n",
        "  <h3><center>Mammogram Image</center></h3>\n",
        "\n",
        "<center><img src=\"https://github.com/BeaverWorksMedlytics2020/Data_Public/raw/master/Images/Week3/mammogram_image.png\" width=400></center>\n",
        "\n",
        "\n",
        "For this challenge you will classify mammogram segments into two classes (positive for an abnormality and negative). You may also attempt to use the \"multiclass labels\" to classify the mammograms into five classes (negative, positive benign calcification, positive malignant calcification, positive benign mass, and positive malignant mass). We recommend you begin with the binary labels, but try both if you have time!\n",
        "\n",
        "Below we provide you with code to visualize the dataset as well as a simple but functional model that does a relatively poor job at this classification problem. It's up to you to build a classifier that does better! Your models will be evaluated based on confusion matrix , Area under the ROC Curve, and Creativity.\n",
        "\n",
        "Before you run any code make sure you turn GPU support on! (Edit > Notebook Settings > Hardware Accelerator)."
      ]
    },
    {
      "cell_type": "markdown",
      "metadata": {
        "id": "A3ukBWGU0O9l",
        "colab_type": "text"
      },
      "source": [
        "## Imports"
      ]
    },
    {
      "cell_type": "code",
      "metadata": {
        "id": "eNtIxtyy5qS-",
        "colab_type": "code",
        "colab": {}
      },
      "source": [
        "### Run this cell to import the packages you will need to unpack the dataset\n",
        "# File manipulation and IO (input/output)\n",
        "import os\n",
        "import pickle\n",
        "import zipfile\n",
        "from google.colab import files\n",
        "\n",
        "# Import numerical and dataframe handling\n",
        "import numpy as np\n",
        "import scipy\n",
        "import pandas as pd\n",
        "\n",
        "# Data preprocessing\n",
        "from PIL import Image\n",
        "from sklearn.utils import shuffle\n",
        "\n",
        "# Model scoring\n",
        "from sklearn.metrics import confusion_matrix\n",
        "from sklearn import metrics\n",
        "\n",
        "# Import standard machine learning machinery\n",
        "import tensorflow as tf\n",
        "\n",
        "# Garbage collection (for saving RAM during training)\n",
        "import gc\n",
        "\n",
        "# Import plotting functionality\n",
        "import matplotlib.pyplot as plt\n",
        "import matplotlib.cm as cm\n",
        "from matplotlib.ticker import MultipleLocator\n",
        "import matplotlib\n"
      ],
      "execution_count": null,
      "outputs": []
    },
    {
      "cell_type": "code",
      "metadata": {
        "id": "bbWAIUdOrF01",
        "colab_type": "code",
        "colab": {}
      },
      "source": [
        "# Set plotting preferences\n",
        "%matplotlib inline\n",
        "font = {'family' : 'sans-serif',\n",
        "        'weight' : 'normal',\n",
        "        'size'   : 16}\n",
        "matplotlib.rc('font', **font)"
      ],
      "execution_count": null,
      "outputs": []
    },
    {
      "cell_type": "markdown",
      "metadata": {
        "id": "dqfIbs4Jy8nH",
        "colab_type": "text"
      },
      "source": [
        "## Download the images and labels from our GitHub data repository\n",
        "\n",
        "This dataset is from the publicly available Digital Database for Screening Mammography (DDSM) and the Curated Breast Imaging Subset of DDSM (CBIS-DDSM).\n",
        "\n",
        "The binary labels are 0 (negative for an abnormality) and 1 (positive for an abnormality). The multiclass labels are:\n",
        "* 0 = Negative\n",
        "* 1 = Benign Calcification\n",
        "* 2 = Benign Mass\n",
        "* 3 = Malignant Calcification\n",
        "* 4 = Malignant Mass\n",
        "\n",
        "In the following cell, we download the images and labels from our GitHub data repository."
      ]
    },
    {
      "cell_type": "code",
      "metadata": {
        "id": "AkpOzgA9w7jK",
        "colab_type": "code",
        "colab": {
          "base_uri": "https://localhost:8080/",
          "height": 34
        },
        "outputId": "9ff9b2ba-aee7-4afc-8ecf-f78cec87f1f7"
      },
      "source": [
        "# Set the path to the Week 3 challenge data on GitHub\n",
        "github_data_path = 'https://raw.githubusercontent.com/BeaverWorksMedlytics2020/Data_Public/master/ChallengeProjects/Week3/'\n",
        "\n",
        "# Download 3 zip files from github containing training, validation, and test images\n",
        "os.system('wget '+ os.path.join(github_data_path, 'Mamm_Images_Test.zip'))\n",
        "os.system('wget '+ os.path.join(github_data_path, 'Mamm_Images_Train.zip'))\n",
        "os.system('wget '+ os.path.join(github_data_path, 'Mamm_Images_Val.zip'))\n",
        "\n",
        "# Download the binary and multiclass labels for the \n",
        "os.system('wget ' + os.path.join(github_data_path,'train_binary_labels.csv'))\n",
        "os.system('wget ' + os.path.join(github_data_path,'train_multiclass_labels.csv'))\n",
        "os.system('wget ' + os.path.join(github_data_path,'val_binary_labels.csv'))\n",
        "os.system('wget ' + os.path.join(github_data_path,'val_multiclass_labels.csv'))"
      ],
      "execution_count": null,
      "outputs": [
        {
          "output_type": "execute_result",
          "data": {
            "text/plain": [
              "0"
            ]
          },
          "metadata": {
            "tags": []
          },
          "execution_count": 3
        }
      ]
    },
    {
      "cell_type": "markdown",
      "metadata": {
        "id": "MWwqOpa9Kroz",
        "colab_type": "text"
      },
      "source": [
        "## Loading the data into memory\n",
        "\n",
        "Run the cell below to get all the data for this challenge. After running the cell, the following data will be loaded into the following variables:\n",
        "\n",
        "* **train_binary_labels_df**: 2 column pandas df where each row contains a label (0 or 1) and the unique ID of the image the label corresponds to. 5500 samples/rows.\n",
        "* **train_multiclass_labels_df**: 2 column pandas df where the rows contains a label (0, 1, 2, 3, 4) and the unique ID of the image the label corresponds to. 5500 samples/rows.\n",
        "* **train_images_df**: 2 column pandas df where the rows contain a 299x299 numpy array of the (greyscale) pixel values in the image and the unique ID of the image. 5500 samples/rows. \n",
        "* **train_images**: A np array (5500, 299,299) containing all training images (may be easier to deal with than the df)\n",
        "* **test_images_df**: 2 column pandas df where the rows contain a 299x299 numpy array of the (greyscale) pixel values in the image and the unique ID of the image. 1500 samples/rows.\n",
        "* **test_images**: A np array (1500, 299,299) containing all training images (may be easier to deal with than the df)\n",
        "\n",
        "\n",
        "DO NOT USE THE TEST IMAGES IN MODEL DEVELOPMENT AT ALL. ALSO, DO NOT SHUFFLE THE TEST IMAGES. These images will be used to evaluate your model and should only be run through the classifier ONCE at the time of submission. You will not have access to the test image labels.\n",
        "\n",
        "Explore the variables listed above! \n"
      ]
    },
    {
      "cell_type": "markdown",
      "metadata": {
        "id": "ZektC25k3Jfp",
        "colab_type": "text"
      },
      "source": [
        "### Unzip the Image Files\n",
        "\n",
        "The following cell unzips the image files and prepares them to be loaded into memory."
      ]
    },
    {
      "cell_type": "code",
      "metadata": {
        "id": "EZH9ZTL6y6NY",
        "colab_type": "code",
        "colab": {}
      },
      "source": [
        "### Unzip the image data and populate dataframe objects ###\n",
        "# Unzip all files to respective folders in current directory\n",
        "zip_ref = zipfile.ZipFile('Mamm_Images_Train.zip', 'r')\n",
        "zip_ref.extractall()\n",
        "zip_ref.close()\n",
        "\n",
        "zip_ref = zipfile.ZipFile('Mamm_Images_Val.zip', 'r')\n",
        "zip_ref.extractall()\n",
        "zip_ref.close()\n",
        "\n",
        "zip_ref = zipfile.ZipFile('Mamm_Images_Test.zip', 'r')\n",
        "zip_ref.extractall()\n",
        "zip_ref.close()  \n"
      ],
      "execution_count": null,
      "outputs": []
    },
    {
      "cell_type": "markdown",
      "metadata": {
        "id": "jRXbNS6a1ncH",
        "colab_type": "text"
      },
      "source": [
        "### Store Images and Labels in Numpy Arrays and Dataframes\n",
        "\n",
        "The following cell will load the images and labels into a pair of numpy ndarray and pandas dataframe objects."
      ]
    },
    {
      "cell_type": "code",
      "metadata": {
        "id": "Vvoo9zFr5rTW",
        "colab_type": "code",
        "colab": {
          "base_uri": "https://localhost:8080/",
          "height": 867
        },
        "outputId": "c8fcc0e4-ef8c-47ab-b006-ea4763b17d08"
      },
      "source": [
        "# Use pd.read_csv to open csv file contents to pandas dataframes\n",
        "train_binary_labels_df = pd.read_csv('train_binary_labels.csv', header=None)\n",
        "train_multiclass_labels_df = pd.read_csv('train_multiclass_labels.csv', header=None)\n",
        "val_binary_labels_df = pd.read_csv('val_binary_labels.csv', header=None)\n",
        "val_multiclass_labels_df = pd.read_csv('val_multiclass_labels.csv', header=None)\n",
        "\n",
        "# Concatenate train/validation labels into one set\n",
        "#(you may decide to separate later for your own train/val/mocktest split)\n",
        "train_binary_labels_df = pd.concat([train_binary_labels_df, val_binary_labels_df], axis=0, ignore_index = True)\n",
        "train_multiclass_labels_df = pd.concat([train_multiclass_labels_df, val_multiclass_labels_df], axis=0, ignore_index = True)\n",
        "\n",
        "# Add columns to train_binary_labels_df dataframe that contains unique\n",
        "# (original) indices of train data\n",
        "unique_indices_df = pd.DataFrame(list(range(5500)))\n",
        "train_binary_labels_df = pd.concat([train_binary_labels_df, unique_indices_df], axis=1)\n",
        "train_binary_labels_df.columns = ['Label', 'Unique_Index']\n",
        "train_multiclass_labels_df = pd.concat([train_multiclass_labels_df, unique_indices_df], axis=1)\n",
        "train_multiclass_labels_df.columns = ['Label', 'Unique_Index']\n",
        "\n",
        "# Load images from file and save to both\n",
        "# 1) dataframe objects\n",
        "# 2) numpy arrays of shape (num_examples, num_pixels_wide, num_pixels_high)\n",
        "\n",
        "# Read in train images (from both train and val directories) to ndarray\n",
        "train_images = np.zeros((5500,299,299), dtype=np.uint8)\n",
        "for ind in range(5000):\n",
        "  im = plt.imread('Mamm_Images_Train/image' + str(ind) + '.jpg')\n",
        "  train_images[ind, :, :] = im\n",
        "  \n",
        "for ind in range(500):\n",
        "  im = plt.imread('Mamm_Images_Val/image' + str(ind) + '.jpg')\n",
        "  train_images[ind + 5000, :, :] = im\n",
        "\n",
        "# Read in test images to ndarray\n",
        "test_images = np.zeros((1500,299,299), dtype=np.uint8)\n",
        "for ind in range(1500):\n",
        "  im = plt.imread('Mamm_Images_Test/image' + str(ind) + '.jpg')\n",
        "  test_images[ind, :, :] = im\n",
        "\n",
        "# Make dataframes that contain the same information as the ndarrays\n",
        "# The N-th row contains a 299x299 ndarray, and a unique index for that image\n",
        "train_images_df = pd.DataFrame([[train_images[i,:,:] for i in range(train_images.shape[0])]])\n",
        "train_images_df = train_images_df.transpose()\n",
        "unique_indices_df = pd.DataFrame(list(range(5500)), dtype = np.int)\n",
        "train_images_df = pd.concat([train_images_df, unique_indices_df], axis = 1)\n",
        "train_images_df.columns = ['Images', 'Unique_Index']\n",
        "\n",
        "test_images_df = pd.DataFrame([[test_images[i,:,:] for i in range(test_images.shape[0])]])\n",
        "test_images_df = test_images_df.transpose()\n",
        "unique_indices_df = pd.DataFrame(list(range(5500, 7000)), dtype = np.int)\n",
        "test_images_df = pd.concat([test_images_df, unique_indices_df], axis = 1)\n",
        "test_images_df.columns = ['Images', 'Unique_Index']\n",
        "\n",
        "#Print out some information about populated variables\n",
        "\n",
        "#resize image to 256x256 for AlexNet\n",
        "import skimage.transform as image_transform\n",
        "\n",
        "original_shape = train_images.shape\n",
        "new_shape = list(original_shape)\n",
        "new_shape[1:3] = (227, 227)\n",
        "\n",
        "# Compute if we are downsampling (in which case we need anti-aliasing)\n",
        "scaling_ratio = np.array(new_shape[1:3])/np.array(original_shape[1:3])\n",
        "\n",
        "resize_shape = (227, 227)\n",
        "train_images_resized = np.zeros((train_images.shape[0], ) + resize_shape)\n",
        "anti_alias = np.any(scaling_ratio < 1)\n",
        "\n",
        "for img_num, img_data in enumerate(train_images):\n",
        "  train_images_resized[img_num] = image_transform.resize(img_data, resize_shape, anti_aliasing = anti_alias)\n",
        "\n",
        "#uncomment if want to see the images (imshow parameter type requirement)\n",
        "#train_images = (np.copy(train_images_resized) * 255).astype(\"uint8\")\n",
        "train_images = train_images_resized\n",
        "\n",
        "del train_images_resized\n",
        "\n",
        "print(f'train_images.shape: {train_images.shape}\\n')\n",
        "\n",
        "print(f'test_images.shape: {test_images.shape}\\n')\n",
        "\n",
        "print('train_images_df.head():')\n",
        "print(train_images_df.head())\n",
        "print('\\n')\n",
        "\n",
        "print('test_images_df.head():')\n",
        "print(test_images_df.head())\n",
        "print('\\n')\n",
        "\n",
        "print('10 random rows of train_binary_labels_df:')\n",
        "print(train_binary_labels_df.loc[np.random.randint(0,train_binary_labels_df.shape[0], size = (10,))])\n",
        "print('\\n')\n",
        "\n",
        "print('10 random rows of train_multiclass_labels_df:')\n",
        "print(train_multiclass_labels_df.loc[np.random.randint(0,train_multiclass_labels_df.shape[0], size = (10,))])\n",
        "print('\\n')\n"
      ],
      "execution_count": null,
      "outputs": [
        {
          "output_type": "stream",
          "text": [
            "train_images.shape: (5500, 227, 227)\n",
            "\n",
            "test_images.shape: (1500, 299, 299)\n",
            "\n",
            "train_images_df.head():\n",
            "                                              Images  Unique_Index\n",
            "0  [[83, 82, 82, 82, 83, 85, 87, 88, 88, 88, 89, ...             0\n",
            "1  [[121, 123, 126, 128, 128, 127, 125, 123, 120,...             1\n",
            "2  [[151, 151, 151, 150, 150, 150, 149, 149, 154,...             2\n",
            "3  [[13, 13, 13, 13, 13, 13, 13, 13, 13, 13, 13, ...             3\n",
            "4  [[78, 78, 77, 77, 77, 78, 79, 79, 77, 78, 79, ...             4\n",
            "\n",
            "\n",
            "test_images_df.head():\n",
            "                                              Images  Unique_Index\n",
            "0  [[107, 107, 108, 109, 109, 109, 108, 108, 107,...          5500\n",
            "1  [[4, 4, 4, 4, 4, 4, 4, 4, 4, 4, 4, 4, 4, 4, 4,...          5501\n",
            "2  [[18, 18, 18, 18, 18, 18, 18, 18, 17, 17, 17, ...          5502\n",
            "3  [[106, 107, 110, 112, 114, 115, 116, 116, 118,...          5503\n",
            "4  [[170, 171, 171, 170, 169, 168, 167, 166, 164,...          5504\n",
            "\n",
            "\n",
            "10 random rows of train_binary_labels_df:\n",
            "      Label  Unique_Index\n",
            "3467    1.0          3467\n",
            "1351    0.0          1351\n",
            "2712    0.0          2712\n",
            "5078    0.0          5078\n",
            "4171    1.0          4171\n",
            "5459    1.0          5459\n",
            "2624    0.0          2624\n",
            "961     0.0           961\n",
            "122     0.0           122\n",
            "4720    1.0          4720\n",
            "\n",
            "\n",
            "10 random rows of train_multiclass_labels_df:\n",
            "      Label  Unique_Index\n",
            "1627    0.0          1627\n",
            "651     0.0           651\n",
            "5394    2.0          5394\n",
            "1125    0.0          1125\n",
            "5241    0.0          5241\n",
            "2537    0.0          2537\n",
            "2270    0.0          2270\n",
            "387     0.0           387\n",
            "4606    2.0          4606\n",
            "767     0.0           767\n",
            "\n",
            "\n"
          ],
          "name": "stdout"
        }
      ]
    },
    {
      "cell_type": "markdown",
      "metadata": {
        "id": "bkcCHU6dOqtw",
        "colab_type": "text"
      },
      "source": [
        "## Data Visualization\n",
        "\n",
        "Run the cell below this one to see what the images you are working with look like. They are 299x299 pixel greyscale images of sections of mammograms. Generally, masses and calcifications show up as blobs of various size, shape, and brightness. As mentioned already, dense tissue shows up brighter on mammograms and it can be dificult to spot an abnormality in mammograms with denser tissue. Each image is labeled with its binary and multiclass labels. Notice that some images are not tissue at all but instead are segments of the mammogram labels (image 10 for example). Further data preprocessing or a robust classifier should successfully deal with these images. Rerun this cell to look at other images in the training dataset.\n"
      ]
    },
    {
      "cell_type": "code",
      "metadata": {
        "id": "exvqx8rZhFuG",
        "colab_type": "code",
        "colab": {
          "base_uri": "https://localhost:8080/"
        },
        "outputId": "af45641f-f421-49bd-e835-57d1254d745e"
      },
      "source": [
        "### Visualize Images in Training Set\n",
        "\n",
        "fig = plt.figure(figsize = (16,16))\n",
        "\n",
        "#print(train_images)\n",
        "\n",
        "for i in range(9): # change these numbers to explore the training dataset further\n",
        "  imgInd = np.random.randint(0, len(train_images_df))\n",
        "  ax = plt.gcf().add_subplot(3, 3, i+1)\n",
        "  ax.imshow(train_images[imgInd], cmap='gray', vmin=0, vmax=255)\n",
        "  ax.set_title(\"data index: \" + str(imgInd) + \"\\nlabel_binary: \" +\n",
        "            str(train_binary_labels_df.iloc[imgInd,0]) +\n",
        "            '\\nlabel_multiclass: ' + str(train_multiclass_labels_df.iloc[imgInd,0]))\n",
        "  \n",
        "  #set major tick marks every 50 pixels\n",
        "  ax.xaxis.set_major_locator(MultipleLocator(50))\n",
        "  ax.yaxis.set_major_locator(MultipleLocator(50))\n",
        "\n",
        "  #turn on grid lines\n",
        "  ax.grid(True)\n",
        "\n",
        "fig.tight_layout()\n"
      ],
      "execution_count": null,
      "outputs": [
        {
          "output_type": "display_data",
          "data": {
            "image/png": "[encoded data removed]",
            "text/plain": [
              "<Figure size 1152x1152 with 9 Axes>"
            ]
          },
          "metadata": {
            "tags": [],
            "needs_background": "light"
          }
        }
      ]
    },
    {
      "cell_type": "markdown",
      "metadata": {
        "id": "b8MjAxxREoFb",
        "colab_type": "text"
      },
      "source": [
        "#Binary CNN classifier"
      ]
    },
    {
      "cell_type": "markdown",
      "metadata": {
        "id": "CjU0ZZvjFozy",
        "colab_type": "text"
      },
      "source": [
        "\n",
        "adjust model a little bit (try to make rgb even though grayscale (columnwise)), then fourier\n",
        "\n",
        "maybe fourier transform is acc rate after above 2 is bad\n",
        "\n",
        "\n",
        "\n",
        "\n"
      ]
    },
    {
      "cell_type": "code",
      "metadata": {
        "id": "_LeuKhijbBVk",
        "colab_type": "code",
        "colab": {}
      },
      "source": [
        "### Create one-hot labels\n",
        "train_binary_labels = train_binary_labels_df[\"Label\"]\n",
        "\n",
        "#convert labels to onehot, ensure type is float32\n",
        "train_binary_labels = tf.keras.utils.to_categorical(train_binary_labels, 2).astype(np.float32)"
      ],
      "execution_count": null,
      "outputs": []
    },
    {
      "cell_type": "code",
      "metadata": {
        "id": "Pu2FiweZGHL2",
        "colab_type": "code",
        "colab": {}
      },
      "source": [
        "### Shuffle and partition labeled data\n",
        "train_images_shuffled, train_binary_labels_shuffled = shuffle(train_images, train_binary_labels, random_state = 25, stratify = train_multiclass_labels_df[\"Label\"])\n",
        "\n",
        "#--Partition into train/val/mock_test--\n",
        "\n",
        "#Note that in a 2D convolution, we need another dimension on all \n",
        "#train/val/mocktest data. This dimension corresponds to \"number of channels\"\n",
        "#(an RGB image would have 3 channels, for example). Our images only have one \n",
        "#channel, but the 2D convolution layers still expect the last data dimension to \n",
        "#correspond to channel. (Without this added channel, error messages would result\n",
        "#saying the expected number of dimensions into the 2D convolution layer is 4,\n",
        "#and not 3. Feel free to try for yourself.)\n",
        "\n",
        "val_size = 1000\n",
        "mocktest_size = 500\n",
        "\n",
        "mocktest_data = train_images_shuffled[0:mocktest_size, :, :, np.newaxis]\n",
        "mocktest_binary_labels = train_binary_labels_shuffled[0:mocktest_size, :]\n",
        "\n",
        "val_data = train_images_shuffled[mocktest_size:mocktest_size+val_size, :, :, np.newaxis]\n",
        "val_binary_labels = train_binary_labels_shuffled[mocktest_size:mocktest_size+val_size, :]\n",
        "\n",
        "partial_train_data = train_images_shuffled[mocktest_size+val_size:,:,:, np.newaxis]\n",
        "tr_binary_labels = train_binary_labels_shuffled[mocktest_size+val_size:,:]"
      ],
      "execution_count": null,
      "outputs": []
    },
    {
      "cell_type": "code",
      "metadata": {
        "id": "ppBjv6ST83FC",
        "colab_type": "code",
        "colab": {
          "base_uri": "https://localhost:8080/",
          "height": 663
        },
        "outputId": "311b4710-14c5-43fd-f9d8-575fa44c9743"
      },
      "source": [
        "### Define a convolutional neural network structure and compile model\n",
        "\n",
        "#reset tf.keras session to \"refresh\" model\n",
        "tf.keras.backend.clear_session()\n",
        "\n",
        "model = tf.keras.Sequential()\n",
        "\n",
        "#AlexNet CNN Architecture\n",
        "\"\"\"\n",
        "original structure\n",
        "Conv1 - filter = 11x11, depth = 96, stride = 4, activation = relu\n",
        "Max Pooling - filter = 3x3, stride = 2\n",
        "Norm\n",
        "Conv2 - filter = 5x5, depth = 256, stride = 1, padding = 2, activation = relu\n",
        "Max Pooling - filter = 3x3, stride = 2\n",
        "Norm\n",
        "Conv3 - filter = 3x3, depth = 384, stride = 1, padding = 1, activation = relu\n",
        "Conv4 - filter = 3x3, depth = 384, stride = 1, padding = 1, activation = relu\n",
        "Conv5 - filter = 3x3, depth = 256, stride = 1, padding = 1, activation = relu\n",
        "Max Pooling - filter = 3x3, stride = 2\n",
        "Flatten\n",
        "Dropout - rate = 0.5\n",
        "Dense - activation = relu (should have 4096)\n",
        "Dense - activation = relu (should have 4096)\n",
        "Output - activation = sigmoid        <- for our case\n",
        "\"\"\"\n",
        "#images are 227 x 227 after reshape\n",
        "model.add(tf.keras.layers.Conv2D(filters = 96, \n",
        "                                 kernel_size = (11, 11), \n",
        "                                 padding = \"valid\", \n",
        "                                 activation=tf.nn.relu, \n",
        "                                 strides = (4, 4), \n",
        "                                 input_shape=(partial_train_data.shape[1], \n",
        "                                              partial_train_data.shape[2], 1)))\n",
        "model.add(tf.keras.layers.MaxPooling2D(pool_size = (3, 3), strides = (2, 2)))\n",
        "model.add(tf.keras.layers.BatchNormalization(trainable = False))\n",
        "model.add(tf.keras.layers.Conv2D(filters = 256, \n",
        "                                 kernel_size = (5, 5), \n",
        "                                 strides = (1, 1), \n",
        "                                 padding = \"valid\", \n",
        "                                 activation = tf.nn.relu))\n",
        "model.add(tf.keras.layers.MaxPooling2D(pool_size = (3, 3), strides = (2, 2)))\n",
        "model.add(tf.keras.layers.BatchNormalization(trainable = False))\n",
        "model.add(tf.keras.layers.Conv2D(filters = 384, \n",
        "                                 kernel_size = (3, 3), \n",
        "                                 strides = (1, 1), \n",
        "                                 padding = \"valid\", \n",
        "                                 activation = tf.nn.relu))\n",
        "model.add(tf.keras.layers.Conv2D(filters = 384, \n",
        "                                 kernel_size = (3, 3), \n",
        "                                 strides = (1, 1), \n",
        "                                 padding = \"valid\", \n",
        "                                 activation = tf.nn.relu))\n",
        "model.add(tf.keras.layers.Conv2D(filters = 256, \n",
        "                                 kernel_size = (3, 3), \n",
        "                                 strides = (1, 1), \n",
        "                                 padding = \"valid\", \n",
        "                                 activation = tf.nn.relu))\n",
        "model.add(tf.keras.layers.MaxPooling2D(pool_size = (3, 3), strides = (2, 2)))\n",
        "model.add(tf.keras.layers.Flatten())\n",
        "model.add(tf.keras.layers.Dropout(rate = 0.75))\n",
        "model.add(tf.keras.layers.Dense(4096, activation = tf.nn.relu))\n",
        "model.add(tf.keras.layers.Dense(4096, activation = tf.nn.relu))\n",
        "model.add(tf.keras.layers.Dense(2, activation = tf.nn.sigmoid))\n",
        "\n",
        "opt = tf.keras.optimizers.Adam(learning_rate=0.00005)\n",
        "\n",
        "model.compile(loss='categorical_crossentropy', optimizer=opt, metrics=['accuracy'])\n",
        "\n",
        "model.summary()"
      ],
      "execution_count": null,
      "outputs": [
        {
          "output_type": "stream",
          "text": [
            "Model: \"sequential\"\n",
            "_________________________________________________________________\n",
            "Layer (type)                 Output Shape              Param #   \n",
            "=================================================================\n",
            "conv2d (Conv2D)              (None, 55, 55, 96)        11712     \n",
            "_________________________________________________________________\n",
            "max_pooling2d (MaxPooling2D) (None, 27, 27, 96)        0         \n",
            "_________________________________________________________________\n",
            "batch_normalization (BatchNo (None, 27, 27, 96)        384       \n",
            "_________________________________________________________________\n",
            "conv2d_1 (Conv2D)            (None, 23, 23, 256)       614656    \n",
            "_________________________________________________________________\n",
            "max_pooling2d_1 (MaxPooling2 (None, 11, 11, 256)       0         \n",
            "_________________________________________________________________\n",
            "batch_normalization_1 (Batch (None, 11, 11, 256)       1024      \n",
            "_________________________________________________________________\n",
            "conv2d_2 (Conv2D)            (None, 9, 9, 384)         885120    \n",
            "_________________________________________________________________\n",
            "conv2d_3 (Conv2D)            (None, 7, 7, 384)         1327488   \n",
            "_________________________________________________________________\n",
            "conv2d_4 (Conv2D)            (None, 5, 5, 256)         884992    \n",
            "_________________________________________________________________\n",
            "max_pooling2d_2 (MaxPooling2 (None, 2, 2, 256)         0         \n",
            "_________________________________________________________________\n",
            "flatten (Flatten)            (None, 1024)              0         \n",
            "_________________________________________________________________\n",
            "dropout (Dropout)            (None, 1024)              0         \n",
            "_________________________________________________________________\n",
            "dense (Dense)                (None, 4096)              4198400   \n",
            "_________________________________________________________________\n",
            "dense_1 (Dense)              (None, 4096)              16781312  \n",
            "_________________________________________________________________\n",
            "dense_2 (Dense)              (None, 2)                 8194      \n",
            "=================================================================\n",
            "Total params: 24,713,282\n",
            "Trainable params: 24,711,874\n",
            "Non-trainable params: 1,408\n",
            "_________________________________________________________________\n"
          ],
          "name": "stdout"
        }
      ]
    },
    {
      "cell_type": "code",
      "metadata": {
        "id": "pUsjUdP8SfOw",
        "colab_type": "code",
        "colab": {
          "base_uri": "https://localhost:8080/",
          "height": 1000
        },
        "outputId": "d744b2ed-4ac4-4998-96f4-416d84e8d495"
      },
      "source": [
        "### Train Model\n",
        "\n",
        "#This function is called after each epoch\n",
        "#(It will ensure that your training process does not consume all available RAM)\n",
        "class garbage_collect_callback(tf.keras.callbacks.Callback):\n",
        "  def on_epoch_end(self, epoch, logs=None):\n",
        "    gc.collect()\n",
        "\n",
        "#run twice for \"100\" epochs (works out better that way)\n",
        "\n",
        "history = model.fit(partial_train_data, # Train examples\n",
        "          tr_binary_labels, # Train labels\n",
        "          epochs=100, # number of epochs (passes through data during training)\n",
        "          batch_size= 100, # number of points to consider in each optimizer iteration\n",
        "          callbacks = [garbage_collect_callback()],\n",
        "          validation_data=(val_data, val_binary_labels), #data to use for validation\n",
        "          verbose=1) #will print information about optimization process\n",
        "\n",
        "#-- Evaluate model using mocktest_data --\n",
        "#Warning: the value returned by model.evaluate depends on what metrics were given\n",
        "#to the model at compile time. Thus, if the metric is no longer accuracy, the\n",
        "#label \"model accuracy\" below will no longer be accurate\n",
        "\n",
        "\n",
        "test_binary_pred = model.predict(mocktest_data)\n",
        "scores = model.evaluate(mocktest_data, mocktest_binary_labels, verbose = 0)\n",
        "print('\\nTesting model on mock_test set:')\n",
        "print(f'Model Loss: {scores[0]:.3f}, Model Accuracy: {scores[1]:.3f}')"
      ],
      "execution_count": null,
      "outputs": [
        {
          "output_type": "stream",
          "text": [
            "Epoch 1/100\n",
            "40/40 [==============================] - 6s 152ms/step - loss: 0.6623 - accuracy: 0.5282 - val_loss: 0.6660 - val_accuracy: 0.5010\n",
            "Epoch 2/100\n",
            "40/40 [==============================] - 6s 144ms/step - loss: 0.6276 - accuracy: 0.6202 - val_loss: 0.6307 - val_accuracy: 0.7990\n",
            "Epoch 3/100\n",
            "40/40 [==============================] - 6s 146ms/step - loss: 0.5415 - accuracy: 0.7588 - val_loss: 0.4682 - val_accuracy: 0.7800\n",
            "Epoch 4/100\n",
            "40/40 [==============================] - 6s 146ms/step - loss: 0.4399 - accuracy: 0.8040 - val_loss: 0.4108 - val_accuracy: 0.8240\n",
            "Epoch 5/100\n",
            "40/40 [==============================] - 6s 145ms/step - loss: 0.4073 - accuracy: 0.8235 - val_loss: 0.3951 - val_accuracy: 0.8310\n",
            "Epoch 6/100\n",
            "40/40 [==============================] - 6s 146ms/step - loss: 0.3849 - accuracy: 0.8325 - val_loss: 0.3862 - val_accuracy: 0.8330\n",
            "Epoch 7/100\n",
            "40/40 [==============================] - 6s 147ms/step - loss: 0.3875 - accuracy: 0.8347 - val_loss: 0.4052 - val_accuracy: 0.8280\n",
            "Epoch 8/100\n",
            "40/40 [==============================] - 6s 147ms/step - loss: 0.3746 - accuracy: 0.8393 - val_loss: 0.3727 - val_accuracy: 0.8380\n",
            "Epoch 9/100\n",
            "40/40 [==============================] - 6s 147ms/step - loss: 0.3599 - accuracy: 0.8428 - val_loss: 0.3954 - val_accuracy: 0.8290\n",
            "Epoch 10/100\n",
            "40/40 [==============================] - 6s 147ms/step - loss: 0.3597 - accuracy: 0.8443 - val_loss: 0.3765 - val_accuracy: 0.8310\n",
            "Epoch 11/100\n",
            "40/40 [==============================] - 6s 146ms/step - loss: 0.3730 - accuracy: 0.8335 - val_loss: 0.3605 - val_accuracy: 0.8430\n",
            "Epoch 12/100\n",
            "40/40 [==============================] - 6s 147ms/step - loss: 0.3648 - accuracy: 0.8435 - val_loss: 0.3808 - val_accuracy: 0.8370\n",
            "Epoch 13/100\n",
            "40/40 [==============================] - 6s 146ms/step - loss: 0.3542 - accuracy: 0.8453 - val_loss: 0.3621 - val_accuracy: 0.8450\n",
            "Epoch 14/100\n",
            "40/40 [==============================] - 6s 147ms/step - loss: 0.3544 - accuracy: 0.8438 - val_loss: 0.3646 - val_accuracy: 0.8430\n",
            "Epoch 15/100\n",
            "40/40 [==============================] - 6s 147ms/step - loss: 0.3466 - accuracy: 0.8475 - val_loss: 0.3680 - val_accuracy: 0.8400\n",
            "Epoch 16/100\n",
            "40/40 [==============================] - 6s 147ms/step - loss: 0.3449 - accuracy: 0.8495 - val_loss: 0.3543 - val_accuracy: 0.8440\n",
            "Epoch 17/100\n",
            "40/40 [==============================] - 6s 146ms/step - loss: 0.3433 - accuracy: 0.8500 - val_loss: 0.3586 - val_accuracy: 0.8450\n",
            "Epoch 18/100\n",
            "40/40 [==============================] - 6s 148ms/step - loss: 0.3410 - accuracy: 0.8522 - val_loss: 0.3516 - val_accuracy: 0.8470\n",
            "Epoch 19/100\n",
            "40/40 [==============================] - 6s 148ms/step - loss: 0.3396 - accuracy: 0.8585 - val_loss: 0.3491 - val_accuracy: 0.8520\n",
            "Epoch 20/100\n",
            "40/40 [==============================] - 6s 148ms/step - loss: 0.3428 - accuracy: 0.8515 - val_loss: 0.3615 - val_accuracy: 0.8370\n",
            "Epoch 21/100\n",
            "40/40 [==============================] - 6s 147ms/step - loss: 0.3454 - accuracy: 0.8472 - val_loss: 0.3661 - val_accuracy: 0.8380\n",
            "Epoch 22/100\n",
            "40/40 [==============================] - 6s 147ms/step - loss: 0.3489 - accuracy: 0.8518 - val_loss: 0.3591 - val_accuracy: 0.8440\n",
            "Epoch 23/100\n",
            "40/40 [==============================] - 6s 147ms/step - loss: 0.3329 - accuracy: 0.8560 - val_loss: 0.3443 - val_accuracy: 0.8570\n",
            "Epoch 24/100\n",
            "40/40 [==============================] - 6s 148ms/step - loss: 0.3358 - accuracy: 0.8493 - val_loss: 0.3458 - val_accuracy: 0.8530\n",
            "Epoch 25/100\n",
            "40/40 [==============================] - 6s 147ms/step - loss: 0.3298 - accuracy: 0.8585 - val_loss: 0.3870 - val_accuracy: 0.8250\n",
            "Epoch 26/100\n",
            "40/40 [==============================] - 6s 146ms/step - loss: 0.3338 - accuracy: 0.8577 - val_loss: 0.3584 - val_accuracy: 0.8410\n",
            "Epoch 27/100\n",
            "40/40 [==============================] - 6s 148ms/step - loss: 0.3315 - accuracy: 0.8533 - val_loss: 0.3451 - val_accuracy: 0.8580\n",
            "Epoch 28/100\n",
            "40/40 [==============================] - 6s 147ms/step - loss: 0.3348 - accuracy: 0.8575 - val_loss: 0.3467 - val_accuracy: 0.8480\n",
            "Epoch 29/100\n",
            "40/40 [==============================] - 6s 147ms/step - loss: 0.3284 - accuracy: 0.8585 - val_loss: 0.3440 - val_accuracy: 0.8530\n",
            "Epoch 30/100\n",
            "40/40 [==============================] - 6s 147ms/step - loss: 0.3169 - accuracy: 0.8662 - val_loss: 0.3644 - val_accuracy: 0.8440\n",
            "Epoch 31/100\n",
            "40/40 [==============================] - 6s 147ms/step - loss: 0.3362 - accuracy: 0.8547 - val_loss: 0.3382 - val_accuracy: 0.8520\n",
            "Epoch 32/100\n",
            "40/40 [==============================] - 6s 147ms/step - loss: 0.3159 - accuracy: 0.8640 - val_loss: 0.3497 - val_accuracy: 0.8530\n",
            "Epoch 33/100\n",
            "40/40 [==============================] - 6s 146ms/step - loss: 0.3226 - accuracy: 0.8633 - val_loss: 0.3421 - val_accuracy: 0.8540\n",
            "Epoch 34/100\n",
            "40/40 [==============================] - 6s 146ms/step - loss: 0.3263 - accuracy: 0.8550 - val_loss: 0.3442 - val_accuracy: 0.8610\n",
            "Epoch 35/100\n",
            "40/40 [==============================] - 6s 146ms/step - loss: 0.3166 - accuracy: 0.8630 - val_loss: 0.3387 - val_accuracy: 0.8490\n",
            "Epoch 36/100\n",
            "40/40 [==============================] - 6s 147ms/step - loss: 0.3144 - accuracy: 0.8622 - val_loss: 0.3297 - val_accuracy: 0.8640\n",
            "Epoch 37/100\n",
            "40/40 [==============================] - 6s 147ms/step - loss: 0.3266 - accuracy: 0.8583 - val_loss: 0.3580 - val_accuracy: 0.8470\n",
            "Epoch 38/100\n",
            "40/40 [==============================] - 6s 147ms/step - loss: 0.3129 - accuracy: 0.8687 - val_loss: 0.3574 - val_accuracy: 0.8520\n",
            "Epoch 39/100\n",
            "40/40 [==============================] - 6s 147ms/step - loss: 0.3149 - accuracy: 0.8655 - val_loss: 0.3356 - val_accuracy: 0.8540\n",
            "Epoch 40/100\n",
            "40/40 [==============================] - 6s 147ms/step - loss: 0.3166 - accuracy: 0.8595 - val_loss: 0.3435 - val_accuracy: 0.8550\n",
            "Epoch 41/100\n",
            "40/40 [==============================] - 6s 147ms/step - loss: 0.3038 - accuracy: 0.8750 - val_loss: 0.3428 - val_accuracy: 0.8540\n",
            "Epoch 42/100\n",
            "40/40 [==============================] - 6s 146ms/step - loss: 0.3090 - accuracy: 0.8668 - val_loss: 0.3537 - val_accuracy: 0.8590\n",
            "Epoch 43/100\n",
            "40/40 [==============================] - 6s 147ms/step - loss: 0.3111 - accuracy: 0.8645 - val_loss: 0.3287 - val_accuracy: 0.8610\n",
            "Epoch 44/100\n",
            "40/40 [==============================] - 6s 147ms/step - loss: 0.3001 - accuracy: 0.8683 - val_loss: 0.3737 - val_accuracy: 0.8490\n",
            "Epoch 45/100\n",
            "40/40 [==============================] - 6s 147ms/step - loss: 0.2981 - accuracy: 0.8725 - val_loss: 0.3299 - val_accuracy: 0.8580\n",
            "Epoch 46/100\n",
            "40/40 [==============================] - 6s 148ms/step - loss: 0.2985 - accuracy: 0.8680 - val_loss: 0.3339 - val_accuracy: 0.8650\n",
            "Epoch 47/100\n",
            "40/40 [==============================] - 6s 146ms/step - loss: 0.2951 - accuracy: 0.8715 - val_loss: 0.3393 - val_accuracy: 0.8590\n",
            "Epoch 48/100\n",
            "40/40 [==============================] - 6s 146ms/step - loss: 0.2905 - accuracy: 0.8755 - val_loss: 0.3384 - val_accuracy: 0.8670\n",
            "Epoch 49/100\n",
            "40/40 [==============================] - 6s 148ms/step - loss: 0.2909 - accuracy: 0.8740 - val_loss: 0.3471 - val_accuracy: 0.8590\n",
            "Epoch 50/100\n",
            "40/40 [==============================] - 6s 147ms/step - loss: 0.2918 - accuracy: 0.8723 - val_loss: 0.3242 - val_accuracy: 0.8720\n",
            "Epoch 51/100\n",
            "40/40 [==============================] - 6s 148ms/step - loss: 0.2826 - accuracy: 0.8777 - val_loss: 0.3275 - val_accuracy: 0.8660\n",
            "Epoch 52/100\n",
            "40/40 [==============================] - 6s 147ms/step - loss: 0.2794 - accuracy: 0.8810 - val_loss: 0.3457 - val_accuracy: 0.8610\n",
            "Epoch 53/100\n",
            "40/40 [==============================] - 6s 147ms/step - loss: 0.2950 - accuracy: 0.8725 - val_loss: 0.3305 - val_accuracy: 0.8580\n",
            "Epoch 54/100\n",
            "40/40 [==============================] - 6s 147ms/step - loss: 0.2760 - accuracy: 0.8823 - val_loss: 0.3222 - val_accuracy: 0.8700\n",
            "Epoch 55/100\n",
            "40/40 [==============================] - 6s 146ms/step - loss: 0.2865 - accuracy: 0.8777 - val_loss: 0.3299 - val_accuracy: 0.8630\n",
            "Epoch 56/100\n",
            "40/40 [==============================] - 6s 147ms/step - loss: 0.2829 - accuracy: 0.8792 - val_loss: 0.3192 - val_accuracy: 0.8750\n",
            "Epoch 57/100\n",
            "40/40 [==============================] - 6s 147ms/step - loss: 0.2689 - accuracy: 0.8842 - val_loss: 0.3220 - val_accuracy: 0.8680\n",
            "Epoch 58/100\n",
            "40/40 [==============================] - 6s 148ms/step - loss: 0.2836 - accuracy: 0.8758 - val_loss: 0.3237 - val_accuracy: 0.8730\n",
            "Epoch 59/100\n",
            "40/40 [==============================] - 6s 148ms/step - loss: 0.2701 - accuracy: 0.8865 - val_loss: 0.3505 - val_accuracy: 0.8690\n",
            "Epoch 60/100\n",
            "40/40 [==============================] - 6s 148ms/step - loss: 0.2767 - accuracy: 0.8777 - val_loss: 0.3293 - val_accuracy: 0.8720\n",
            "Epoch 61/100\n",
            "40/40 [==============================] - 6s 147ms/step - loss: 0.2697 - accuracy: 0.8823 - val_loss: 0.3173 - val_accuracy: 0.8790\n",
            "Epoch 62/100\n",
            "40/40 [==============================] - 6s 146ms/step - loss: 0.2550 - accuracy: 0.8865 - val_loss: 0.3314 - val_accuracy: 0.8660\n",
            "Epoch 63/100\n",
            "40/40 [==============================] - 6s 147ms/step - loss: 0.2618 - accuracy: 0.8890 - val_loss: 0.3446 - val_accuracy: 0.8650\n",
            "Epoch 64/100\n",
            "40/40 [==============================] - 6s 147ms/step - loss: 0.2555 - accuracy: 0.8907 - val_loss: 0.3290 - val_accuracy: 0.8730\n",
            "Epoch 65/100\n",
            "40/40 [==============================] - 6s 146ms/step - loss: 0.2615 - accuracy: 0.8903 - val_loss: 0.3695 - val_accuracy: 0.8440\n",
            "Epoch 66/100\n",
            "40/40 [==============================] - 6s 147ms/step - loss: 0.2545 - accuracy: 0.8930 - val_loss: 0.3271 - val_accuracy: 0.8710\n",
            "Epoch 67/100\n",
            "40/40 [==============================] - 6s 145ms/step - loss: 0.2438 - accuracy: 0.9000 - val_loss: 0.3427 - val_accuracy: 0.8760\n",
            "Epoch 68/100\n",
            "40/40 [==============================] - 6s 148ms/step - loss: 0.2346 - accuracy: 0.9022 - val_loss: 0.3570 - val_accuracy: 0.8700\n",
            "Epoch 69/100\n",
            "40/40 [==============================] - 6s 147ms/step - loss: 0.2496 - accuracy: 0.8942 - val_loss: 0.3364 - val_accuracy: 0.8760\n",
            "Epoch 70/100\n",
            "40/40 [==============================] - 6s 147ms/step - loss: 0.2314 - accuracy: 0.8997 - val_loss: 0.3607 - val_accuracy: 0.8620\n",
            "Epoch 71/100\n",
            "40/40 [==============================] - 6s 148ms/step - loss: 0.2465 - accuracy: 0.8970 - val_loss: 0.3708 - val_accuracy: 0.8460\n",
            "Epoch 72/100\n",
            "40/40 [==============================] - 6s 148ms/step - loss: 0.2326 - accuracy: 0.9007 - val_loss: 0.3439 - val_accuracy: 0.8640\n",
            "Epoch 73/100\n",
            "40/40 [==============================] - 6s 148ms/step - loss: 0.2342 - accuracy: 0.8997 - val_loss: 0.4058 - val_accuracy: 0.8360\n",
            "Epoch 74/100\n",
            "40/40 [==============================] - 6s 148ms/step - loss: 0.2415 - accuracy: 0.8967 - val_loss: 0.3188 - val_accuracy: 0.8770\n",
            "Epoch 75/100\n",
            "40/40 [==============================] - 6s 148ms/step - loss: 0.2275 - accuracy: 0.9068 - val_loss: 0.3429 - val_accuracy: 0.8700\n",
            "Epoch 76/100\n",
            "40/40 [==============================] - 6s 147ms/step - loss: 0.2344 - accuracy: 0.9022 - val_loss: 0.3458 - val_accuracy: 0.8780\n",
            "Epoch 77/100\n",
            "40/40 [==============================] - 6s 146ms/step - loss: 0.2130 - accuracy: 0.9135 - val_loss: 0.3545 - val_accuracy: 0.8770\n",
            "Epoch 78/100\n",
            "40/40 [==============================] - 6s 146ms/step - loss: 0.2178 - accuracy: 0.9115 - val_loss: 0.3470 - val_accuracy: 0.8740\n",
            "Epoch 79/100\n",
            "40/40 [==============================] - 6s 148ms/step - loss: 0.2284 - accuracy: 0.9070 - val_loss: 0.3655 - val_accuracy: 0.8690\n",
            "Epoch 80/100\n",
            "40/40 [==============================] - 6s 148ms/step - loss: 0.2158 - accuracy: 0.9087 - val_loss: 0.3457 - val_accuracy: 0.8780\n",
            "Epoch 81/100\n",
            "40/40 [==============================] - 6s 147ms/step - loss: 0.2043 - accuracy: 0.9145 - val_loss: 0.3398 - val_accuracy: 0.8730\n",
            "Epoch 82/100\n",
            "40/40 [==============================] - 6s 146ms/step - loss: 0.2233 - accuracy: 0.9043 - val_loss: 0.3682 - val_accuracy: 0.8600\n",
            "Epoch 83/100\n",
            "40/40 [==============================] - 6s 146ms/step - loss: 0.2102 - accuracy: 0.9140 - val_loss: 0.3532 - val_accuracy: 0.8730\n",
            "Epoch 84/100\n",
            "40/40 [==============================] - 6s 146ms/step - loss: 0.2095 - accuracy: 0.9107 - val_loss: 0.3412 - val_accuracy: 0.8720\n",
            "Epoch 85/100\n",
            "40/40 [==============================] - 6s 146ms/step - loss: 0.2005 - accuracy: 0.9208 - val_loss: 0.4440 - val_accuracy: 0.8320\n",
            "Epoch 86/100\n",
            "40/40 [==============================] - 6s 147ms/step - loss: 0.2189 - accuracy: 0.9053 - val_loss: 0.3474 - val_accuracy: 0.8770\n",
            "Epoch 87/100\n",
            "40/40 [==============================] - 6s 148ms/step - loss: 0.2028 - accuracy: 0.9140 - val_loss: 0.4001 - val_accuracy: 0.8380\n",
            "Epoch 88/100\n",
            "40/40 [==============================] - 6s 146ms/step - loss: 0.1897 - accuracy: 0.9187 - val_loss: 0.3654 - val_accuracy: 0.8730\n",
            "Epoch 89/100\n",
            "40/40 [==============================] - 6s 147ms/step - loss: 0.2010 - accuracy: 0.9220 - val_loss: 0.4060 - val_accuracy: 0.8560\n",
            "Epoch 90/100\n",
            "40/40 [==============================] - 6s 147ms/step - loss: 0.1922 - accuracy: 0.9222 - val_loss: 0.4119 - val_accuracy: 0.8520\n",
            "Epoch 91/100\n",
            "40/40 [==============================] - 6s 147ms/step - loss: 0.1858 - accuracy: 0.9270 - val_loss: 0.3662 - val_accuracy: 0.8630\n",
            "Epoch 92/100\n",
            "40/40 [==============================] - 6s 146ms/step - loss: 0.1776 - accuracy: 0.9280 - val_loss: 0.3669 - val_accuracy: 0.8660\n",
            "Epoch 93/100\n",
            "40/40 [==============================] - 6s 147ms/step - loss: 0.1707 - accuracy: 0.9312 - val_loss: 0.3862 - val_accuracy: 0.8660\n",
            "Epoch 94/100\n",
            "40/40 [==============================] - 6s 147ms/step - loss: 0.1664 - accuracy: 0.9360 - val_loss: 0.3843 - val_accuracy: 0.8660\n",
            "Epoch 95/100\n",
            "40/40 [==============================] - 6s 147ms/step - loss: 0.1567 - accuracy: 0.9380 - val_loss: 0.4388 - val_accuracy: 0.8490\n",
            "Epoch 96/100\n",
            "40/40 [==============================] - 6s 148ms/step - loss: 0.1652 - accuracy: 0.9362 - val_loss: 0.3813 - val_accuracy: 0.8680\n",
            "Epoch 97/100\n",
            "40/40 [==============================] - 6s 146ms/step - loss: 0.1592 - accuracy: 0.9367 - val_loss: 0.3861 - val_accuracy: 0.8640\n",
            "Epoch 98/100\n",
            "40/40 [==============================] - 6s 147ms/step - loss: 0.1753 - accuracy: 0.9327 - val_loss: 0.4109 - val_accuracy: 0.8760\n",
            "Epoch 99/100\n",
            "40/40 [==============================] - 6s 148ms/step - loss: 0.1587 - accuracy: 0.9367 - val_loss: 0.3978 - val_accuracy: 0.8750\n",
            "Epoch 100/100\n",
            "40/40 [==============================] - 6s 147ms/step - loss: 0.1584 - accuracy: 0.9367 - val_loss: 0.4127 - val_accuracy: 0.8510\n",
            "\n",
            "Testing model on mock_test set:\n",
            "Model Loss: 0.400, Model Accuracy: 0.854\n"
          ],
          "name": "stdout"
        }
      ]
    },
    {
      "cell_type": "markdown",
      "metadata": {
        "id": "TTmw3yQgqRxE",
        "colab_type": "text"
      },
      "source": [
        "###Confusion Matrix (Binary)"
      ]
    },
    {
      "cell_type": "code",
      "metadata": {
        "id": "iP3H2Q3gqYy_",
        "colab_type": "code",
        "colab": {
          "base_uri": "https://localhost:8080/",
          "height": 102
        },
        "outputId": "25987aa4-8fe1-4171-8791-250373c586a9"
      },
      "source": [
        "from sklearn.metrics import confusion_matrix\n",
        "from sklearn.metrics import accuracy_score\n",
        "\n",
        "true_test_labels_binary = mocktest_binary_labels.argmax(axis = 1)\n",
        "pred_test_labels_binary = test_binary_pred.argmax(axis = 1)\n",
        "\n",
        "print(\"Confusion matrix: \")\n",
        "mat = confusion_matrix(true_test_labels_binary, pred_test_labels_binary)\n",
        "print(mat)\n",
        "print(\"Accuracy:\" )\n",
        "acc = accuracy_score(true_test_labels_binary, pred_test_labels_binary)\n",
        "print(acc)"
      ],
      "execution_count": null,
      "outputs": [
        {
          "output_type": "stream",
          "text": [
            "Confusion matrix: \n",
            "[[202  53]\n",
            " [ 17 228]]\n",
            "Accuracy:\n",
            "0.86\n"
          ],
          "name": "stdout"
        }
      ]
    },
    {
      "cell_type": "code",
      "metadata": {
        "id": "mZI13CKfszPv",
        "colab_type": "code",
        "colab": {
          "base_uri": "https://localhost:8080/",
          "height": 574
        },
        "outputId": "a442ea2f-ac6a-481b-cca8-8c6c5f3d482f"
      },
      "source": [
        "import matplotlib.pyplot as plt\n",
        "\n",
        "# Generate a new figure\n",
        "plt.figure(figsize=(10,10))\n",
        "\n",
        "# Display the confusion matrix\n",
        "plt.imshow(mat, cmap='hot', interpolation='nearest')\n",
        "\n",
        "# Add some anotation for the plot\n",
        "plt.colorbar()\n",
        "plt.xlabel('True label')\n",
        "plt.ylabel('Predicted label')\n",
        "plt.show()"
      ],
      "execution_count": null,
      "outputs": [
        {
          "output_type": "display_data",
          "data": {
            "image/png": "[encoded data removed]",
            "text/plain": [
              "<Figure size 720x720 with 2 Axes>"
            ]
          },
          "metadata": {
            "tags": [],
            "needs_background": "light"
          }
        }
      ]
    },
    {
      "cell_type": "markdown",
      "metadata": {
        "id": "87Ezt6shOa4L",
        "colab_type": "text"
      },
      "source": [
        "###Model Attributes"
      ]
    },
    {
      "cell_type": "code",
      "metadata": {
        "id": "j7drAFxFOfeE",
        "colab_type": "code",
        "colab": {
          "base_uri": "https://localhost:8080/",
          "height": 1000
        },
        "outputId": "a36dbbf0-453f-4280-a26c-77b22dbdf4b1"
      },
      "source": [
        "# Plot model train/validation accuracy and model train/validation loss\n",
        "# Summarize history for accuracy\n",
        "plt.figure(figsize=(10,8))\n",
        "plt.plot(history.history['accuracy'])\n",
        "plt.plot(history.history['val_accuracy'])\n",
        "plt.title('model accuracy')\n",
        "plt.ylabel('accuracy')\n",
        "plt.xlabel('epoch')\n",
        "plt.legend(['train', 'val'], loc='upper left')\n",
        "plt.show()\n",
        "\n",
        "# Summarize history for loss\n",
        "plt.figure(figsize=(10,8))\n",
        "plt.plot(history.history['loss'])\n",
        "plt.plot(history.history['val_loss'])\n",
        "plt.title('model loss')\n",
        "plt.ylabel('loss')\n",
        "plt.xlabel('epoch')\n",
        "plt.legend(['train', 'val'], loc='upper left')\n",
        "plt.show()"
      ],
      "execution_count": null,
      "outputs": [
        {
          "output_type": "display_data",
          "data": {
            "image/png": "[encoded data removed]",
            "text/plain": [
              "<Figure size 720x576 with 1 Axes>"
            ]
          },
          "metadata": {
            "tags": [],
            "needs_background": "light"
          }
        },
        {
          "output_type": "display_data",
          "data": {
            "image/png": "[encoded data removed]",
            "text/plain": [
              "<Figure size 720x576 with 1 Axes>"
            ]
          },
          "metadata": {
            "tags": [],
            "needs_background": "light"
          }
        }
      ]
    },
    {
      "cell_type": "markdown",
      "metadata": {
        "id": "Wl6jAuZ0GF8h",
        "colab_type": "text"
      },
      "source": [
        "###ROC Curve"
      ]
    },
    {
      "cell_type": "code",
      "metadata": {
        "id": "7eEK8frqGH90",
        "colab_type": "code",
        "colab": {
          "base_uri": "https://localhost:8080/",
          "height": 419
        },
        "outputId": "64182d10-767e-4357-f9f2-a27117870169"
      },
      "source": [
        "fpr, tpr, thresholds = metrics.roc_curve(true_test_labels_binary, pred_test_labels_binary)\n",
        "\n",
        "# Calculate the area under the ROC curve\n",
        "roc_auc = metrics.auc(fpr, tpr)\n",
        "\n",
        "plt.figure(figsize=(6,6))\n",
        "lw = 2\n",
        "plt.plot(fpr, tpr, color='darkorange',\n",
        "         lw=lw, label='ROC curve (area = %0.2f)' % roc_auc)\n",
        "plt.plot([0, 1], [0, 1], color='navy', lw=lw, linestyle='--')\n",
        "plt.xlim([0.0, 1.0])\n",
        "plt.ylim([0.0, 1.0])\n",
        "plt.xlabel('False Positive Rate')\n",
        "plt.ylabel('True Positive Rate')\n",
        "plt.title('Receiver operating characteristic')\n",
        "plt.legend(loc=\"lower right\")\n",
        "plt.show()"
      ],
      "execution_count": null,
      "outputs": [
        {
          "output_type": "display_data",
          "data": {
            "image/png": "[encoded data removed]",
            "text/plain": [
              "<Figure size 432x432 with 1 Axes>"
            ]
          },
          "metadata": {
            "tags": [],
            "needs_background": "light"
          }
        }
      ]
    },
    {
      "cell_type": "markdown",
      "metadata": {
        "id": "GKBzesLNupZF",
        "colab_type": "text"
      },
      "source": [
        "#Multiclass CNN classifier"
      ]
    },
    {
      "cell_type": "code",
      "metadata": {
        "id": "_Ro8vizeuopG",
        "colab_type": "code",
        "colab": {}
      },
      "source": [
        "#fetch multiclass label\n",
        "train_multiclass_labels = train_multiclass_labels_df[\"Label\"]\n",
        "\n",
        "#convert labels to onehot and ensuree type is float32\n",
        "train_multiclass_labels = tf.keras.utils.to_categorical(train_multiclass_labels, 5).astype(np.float32)"
      ],
      "execution_count": null,
      "outputs": []
    },
    {
      "cell_type": "code",
      "metadata": {
        "id": "JEMaXvOEwAQ9",
        "colab_type": "code",
        "colab": {}
      },
      "source": [
        "#shuffle and partition labeled data\n",
        "train_images_shuffled, train_multiclass_labels_shuffled = shuffle(train_images, train_multiclass_labels, random_state = 25, stratify = train_multiclass_labels_df[\"Label\"])\n",
        "\n",
        "#partition into train/val/mock_test\n",
        "val_size = 1000\n",
        "mocktest_size = 500\n",
        "\n",
        "#maybe mess around with np.newaxis\n",
        "mocktest_data = train_images_shuffled[0:mocktest_size, :, :, np.newaxis]\n",
        "mocktest_multiclass_labels = train_multiclass_labels_shuffled[0:mocktest_size, :]\n",
        "\n",
        "val_data = train_images_shuffled[mocktest_size:mocktest_size + val_size, :, :, np.newaxis]\n",
        "val_multiclass_labels = train_multiclass_labels_shuffled[mocktest_size:mocktest_size + val_size, :]\n",
        "\n",
        "partial_train_data = train_images_shuffled[mocktest_size + val_size:, :, :, np.newaxis]\n",
        "tr_multiclass_labels = train_multiclass_labels_shuffled[mocktest_size + val_size:, :]"
      ],
      "execution_count": null,
      "outputs": []
    },
    {
      "cell_type": "code",
      "metadata": {
        "id": "Lvi9xJsKw7BD",
        "colab_type": "code",
        "colab": {
          "base_uri": "https://localhost:8080/"
        },
        "outputId": "4c90bd10-9f5f-48c5-e077-ac0de250fe55"
      },
      "source": [
        "#creating model\n",
        "\n",
        "#reset tf.keras session to \"refresh\" model\n",
        "tf.keras.backend.clear_session()\n",
        "\n",
        "modelMC = tf.keras.Sequential()\n",
        "\n",
        "# #change layers based on book after initial run\n",
        "# model.add(tf.keras.layers.Conv2D(filters = 16, kernel_size = 8, padding = \"valid\", activation = tf.nn.relu, input_shape = (partial_train_data.shape[1], partial_train_data.shape[2], 1)))\n",
        "\n",
        "# #use 2D max pooling to reduce size of convolution output before flattening\n",
        "# model.add(tf.keras.layers.MaxPooling2D(pool_size = (10,10), strides=3, padding = 'valid', data_format = 'channels_last'))\n",
        "\n",
        "# #Take all activations from previous layer and flatten them \n",
        "# #(often done before a fully connected layer)\n",
        "# model.add(tf.keras.layers.Flatten())\n",
        "\n",
        "# #insert a dense layer with 64 units\n",
        "# model.add(tf.keras.layers.Dense(32, activation=tf.nn.relu))\n",
        "\n",
        "# #we end with a softmax to ensure outputs of neural network are in range of 0 to 1\n",
        "# #(sortof like probabilities would)\n",
        "\n",
        "modelMC.add(tf.keras.layers.Conv2D(filters = 96, kernel_size = (11, 11), padding = 'valid', activation=tf.nn.relu, strides = (4, 4), input_shape=(partial_train_data.shape[1], partial_train_data.shape[2], 1)))\n",
        "modelMC.add(tf.keras.layers.MaxPooling2D(pool_size = (3, 3), strides = (2, 2)))\n",
        "modelMC.add(tf.keras.layers.Conv2D(filters =  256, kernel_size = (5, 5), strides = (1, 1), padding = \"valid\", activation = tf.nn.relu))\n",
        "modelMC.add(tf.keras.layers.MaxPooling2D(pool_size = (3, 3), strides = (2, 2)))\n",
        "modelMC.add(tf.keras.layers.Conv2D(filters = 384, kernel_size = (3, 3), strides = (1, 1), padding = \"valid\", activation = tf.nn.relu))\n",
        "modelMC.add(tf.keras.layers.Conv2D(filters = 384, kernel_size = (3, 3), strides = (1, 1), padding = \"valid\", activation = tf.nn.relu))\n",
        "modelMC.add(tf.keras.layers.Conv2D(filters = 256, kernel_size = (3, 3), strides = (1, 1), padding = \"valid\", activation = tf.nn.relu))\n",
        "modelMC.add(tf.keras.layers.MaxPooling2D(pool_size = (3, 3), strides = (2, 2)))\n",
        "modelMC.add(tf.keras.layers.Flatten())\n",
        "modelMC.add(tf.keras.layers.Dropout(rate = 0.5))\n",
        "modelMC.add(tf.keras.layers.Dense(4096, activation = tf.nn.relu))\n",
        "modelMC.add(tf.keras.layers.Dense(4096, activation = tf.nn.relu))\n",
        "modelMC.add(tf.keras.layers.Dense(5, activation = tf.nn.sigmoid))\n",
        "\n",
        "opt = tf.keras.optimizers.Adam(learning_rate=0.00005)\n",
        "\n",
        "modelMC.compile(loss='categorical_crossentropy', optimizer=opt, metrics=['accuracy'])\n",
        "\n",
        "modelMC.summary()"
      ],
      "execution_count": null,
      "outputs": [
        {
          "output_type": "stream",
          "text": [
            "Model: \"sequential\"\n",
            "_________________________________________________________________\n",
            "Layer (type)                 Output Shape              Param #   \n",
            "=================================================================\n",
            "conv2d (Conv2D)              (None, 55, 55, 96)        11712     \n",
            "_________________________________________________________________\n",
            "max_pooling2d (MaxPooling2D) (None, 27, 27, 96)        0         \n",
            "_________________________________________________________________\n",
            "conv2d_1 (Conv2D)            (None, 23, 23, 256)       614656    \n",
            "_________________________________________________________________\n",
            "max_pooling2d_1 (MaxPooling2 (None, 11, 11, 256)       0         \n",
            "_________________________________________________________________\n",
            "conv2d_2 (Conv2D)            (None, 9, 9, 384)         885120    \n",
            "_________________________________________________________________\n",
            "conv2d_3 (Conv2D)            (None, 7, 7, 384)         1327488   \n",
            "_________________________________________________________________\n",
            "conv2d_4 (Conv2D)            (None, 5, 5, 256)         884992    \n",
            "_________________________________________________________________\n",
            "max_pooling2d_2 (MaxPooling2 (None, 2, 2, 256)         0         \n",
            "_________________________________________________________________\n",
            "flatten (Flatten)            (None, 1024)              0         \n",
            "_________________________________________________________________\n",
            "dropout (Dropout)            (None, 1024)              0         \n",
            "_________________________________________________________________\n",
            "dense (Dense)                (None, 4096)              4198400   \n",
            "_________________________________________________________________\n",
            "dense_1 (Dense)              (None, 4096)              16781312  \n",
            "_________________________________________________________________\n",
            "dense_2 (Dense)              (None, 5)                 20485     \n",
            "=================================================================\n",
            "Total params: 24,724,165\n",
            "Trainable params: 24,724,165\n",
            "Non-trainable params: 0\n",
            "_________________________________________________________________\n"
          ],
          "name": "stdout"
        }
      ]
    },
    {
      "cell_type": "code",
      "metadata": {
        "id": "ml_NFAOHyLOs",
        "colab_type": "code",
        "colab": {
          "base_uri": "https://localhost:8080/",
          "height": 1000
        },
        "outputId": "e0543632-535f-488c-fcfd-9015d6d32675"
      },
      "source": [
        "#Train model\n",
        "\n",
        "#Keep RAM usage in control\n",
        "class garbage_collect_callback(tf.keras.callbacks.Callback):\n",
        "  def on_epoch_end(self, epoch, logs=None):\n",
        "    gc.collect()\n",
        "\n",
        "history = modelMC.fit(partial_train_data, tr_multiclass_labels, epochs = 125, batch_size = 200, callbacks = [garbage_collect_callback()], validation_data = (val_data, val_multiclass_labels), verbose = 1)\n",
        "\n",
        "test_multiclass_pred = modelMC.predict(mocktest_data)\n",
        "scores = modelMC.evaluate(mocktest_data, mocktest_multiclass_labels, verbose = 0)\n",
        "print('\\nTesting model on mock_test set:')\n",
        "print(f'Model Loss: {scores[0]:.3f}, Model Accuracy: {scores[1]:.3f}')"
      ],
      "execution_count": null,
      "outputs": [
        {
          "output_type": "stream",
          "text": [
            "Epoch 1/125\n",
            "20/20 [==============================] - 5s 252ms/step - loss: 1.5294 - accuracy: 0.4793 - val_loss: 1.4276 - val_accuracy: 0.5440\n",
            "Epoch 2/125\n",
            "20/20 [==============================] - 5s 242ms/step - loss: 1.4605 - accuracy: 0.4877 - val_loss: 1.4145 - val_accuracy: 0.5440\n",
            "Epoch 3/125\n",
            "20/20 [==============================] - 5s 245ms/step - loss: 1.4476 - accuracy: 0.4877 - val_loss: 1.4092 - val_accuracy: 0.5440\n",
            "Epoch 4/125\n",
            "20/20 [==============================] - 5s 248ms/step - loss: 1.4338 - accuracy: 0.4877 - val_loss: 1.3618 - val_accuracy: 0.5440\n",
            "Epoch 5/125\n",
            "20/20 [==============================] - 5s 245ms/step - loss: 1.3703 - accuracy: 0.4877 - val_loss: 1.2319 - val_accuracy: 0.5440\n",
            "Epoch 6/125\n",
            "20/20 [==============================] - 5s 246ms/step - loss: 1.3157 - accuracy: 0.4877 - val_loss: 1.1673 - val_accuracy: 0.5440\n",
            "Epoch 7/125\n",
            "20/20 [==============================] - 5s 247ms/step - loss: 1.2698 - accuracy: 0.4877 - val_loss: 1.1540 - val_accuracy: 0.5440\n",
            "Epoch 8/125\n",
            "20/20 [==============================] - 5s 248ms/step - loss: 1.2273 - accuracy: 0.4897 - val_loss: 1.1651 - val_accuracy: 0.5450\n",
            "Epoch 9/125\n",
            "20/20 [==============================] - 5s 248ms/step - loss: 1.2002 - accuracy: 0.5150 - val_loss: 1.0774 - val_accuracy: 0.5840\n",
            "Epoch 10/125\n",
            "20/20 [==============================] - 5s 247ms/step - loss: 1.1623 - accuracy: 0.5220 - val_loss: 1.1619 - val_accuracy: 0.5220\n",
            "Epoch 11/125\n",
            "20/20 [==============================] - 5s 247ms/step - loss: 1.1880 - accuracy: 0.5170 - val_loss: 1.1150 - val_accuracy: 0.5720\n",
            "Epoch 12/125\n",
            "20/20 [==============================] - 5s 248ms/step - loss: 1.1261 - accuracy: 0.5395 - val_loss: 1.0356 - val_accuracy: 0.5840\n",
            "Epoch 13/125\n",
            "20/20 [==============================] - 5s 247ms/step - loss: 1.1135 - accuracy: 0.5410 - val_loss: 1.0337 - val_accuracy: 0.5920\n",
            "Epoch 14/125\n",
            "20/20 [==============================] - 5s 249ms/step - loss: 1.1303 - accuracy: 0.5278 - val_loss: 1.1030 - val_accuracy: 0.5820\n",
            "Epoch 15/125\n",
            "20/20 [==============================] - 5s 250ms/step - loss: 1.1498 - accuracy: 0.5255 - val_loss: 1.0456 - val_accuracy: 0.5880\n",
            "Epoch 16/125\n",
            "20/20 [==============================] - 5s 245ms/step - loss: 1.1056 - accuracy: 0.5460 - val_loss: 1.0542 - val_accuracy: 0.5820\n",
            "Epoch 17/125\n",
            "20/20 [==============================] - 5s 250ms/step - loss: 1.0811 - accuracy: 0.5497 - val_loss: 1.0660 - val_accuracy: 0.5720\n",
            "Epoch 18/125\n",
            "20/20 [==============================] - 5s 251ms/step - loss: 1.0810 - accuracy: 0.5558 - val_loss: 1.0985 - val_accuracy: 0.5530\n",
            "Epoch 19/125\n",
            "20/20 [==============================] - 5s 248ms/step - loss: 1.0995 - accuracy: 0.5450 - val_loss: 1.0357 - val_accuracy: 0.5910\n",
            "Epoch 20/125\n",
            "20/20 [==============================] - 5s 249ms/step - loss: 1.0964 - accuracy: 0.5495 - val_loss: 1.0194 - val_accuracy: 0.6010\n",
            "Epoch 21/125\n",
            "20/20 [==============================] - 5s 246ms/step - loss: 1.0845 - accuracy: 0.5477 - val_loss: 1.0433 - val_accuracy: 0.5830\n",
            "Epoch 22/125\n",
            "20/20 [==============================] - 5s 246ms/step - loss: 1.0585 - accuracy: 0.5648 - val_loss: 1.0150 - val_accuracy: 0.5930\n",
            "Epoch 23/125\n",
            "20/20 [==============================] - 5s 250ms/step - loss: 1.0459 - accuracy: 0.5713 - val_loss: 0.9738 - val_accuracy: 0.6040\n",
            "Epoch 24/125\n",
            "20/20 [==============================] - 5s 250ms/step - loss: 1.0367 - accuracy: 0.5765 - val_loss: 0.9924 - val_accuracy: 0.6030\n",
            "Epoch 25/125\n",
            "20/20 [==============================] - 5s 250ms/step - loss: 1.0248 - accuracy: 0.5870 - val_loss: 0.9974 - val_accuracy: 0.5990\n",
            "Epoch 26/125\n",
            "20/20 [==============================] - 5s 247ms/step - loss: 1.0111 - accuracy: 0.5882 - val_loss: 0.9764 - val_accuracy: 0.6190\n",
            "Epoch 27/125\n",
            "20/20 [==============================] - 5s 249ms/step - loss: 1.0017 - accuracy: 0.5982 - val_loss: 0.9676 - val_accuracy: 0.6040\n",
            "Epoch 28/125\n",
            "20/20 [==============================] - 5s 249ms/step - loss: 0.9902 - accuracy: 0.6030 - val_loss: 0.9539 - val_accuracy: 0.6140\n",
            "Epoch 29/125\n",
            "20/20 [==============================] - 5s 250ms/step - loss: 0.9857 - accuracy: 0.6060 - val_loss: 0.9312 - val_accuracy: 0.6250\n",
            "Epoch 30/125\n",
            "20/20 [==============================] - 5s 249ms/step - loss: 0.9727 - accuracy: 0.6137 - val_loss: 0.9251 - val_accuracy: 0.6300\n",
            "Epoch 31/125\n",
            "20/20 [==============================] - 5s 248ms/step - loss: 0.9605 - accuracy: 0.6192 - val_loss: 0.9326 - val_accuracy: 0.6220\n",
            "Epoch 32/125\n",
            "20/20 [==============================] - 5s 250ms/step - loss: 0.9614 - accuracy: 0.6168 - val_loss: 0.9763 - val_accuracy: 0.6100\n",
            "Epoch 33/125\n",
            "20/20 [==============================] - 5s 249ms/step - loss: 0.9675 - accuracy: 0.6143 - val_loss: 0.9165 - val_accuracy: 0.6370\n",
            "Epoch 34/125\n",
            "20/20 [==============================] - 5s 249ms/step - loss: 0.9446 - accuracy: 0.6217 - val_loss: 0.9083 - val_accuracy: 0.6290\n",
            "Epoch 35/125\n",
            "20/20 [==============================] - 5s 249ms/step - loss: 0.9522 - accuracy: 0.6110 - val_loss: 0.9008 - val_accuracy: 0.6430\n",
            "Epoch 36/125\n",
            "20/20 [==============================] - 5s 250ms/step - loss: 0.9376 - accuracy: 0.6185 - val_loss: 0.9287 - val_accuracy: 0.6300\n",
            "Epoch 37/125\n",
            "20/20 [==============================] - 5s 248ms/step - loss: 0.9440 - accuracy: 0.6150 - val_loss: 0.8991 - val_accuracy: 0.6400\n",
            "Epoch 38/125\n",
            "20/20 [==============================] - 5s 251ms/step - loss: 0.9253 - accuracy: 0.6227 - val_loss: 0.8989 - val_accuracy: 0.6450\n",
            "Epoch 39/125\n",
            "20/20 [==============================] - 5s 248ms/step - loss: 0.9161 - accuracy: 0.6317 - val_loss: 0.8987 - val_accuracy: 0.6450\n",
            "Epoch 40/125\n",
            "20/20 [==============================] - 5s 249ms/step - loss: 0.9239 - accuracy: 0.6285 - val_loss: 0.9535 - val_accuracy: 0.6180\n",
            "Epoch 41/125\n",
            "20/20 [==============================] - 5s 250ms/step - loss: 0.9239 - accuracy: 0.6313 - val_loss: 0.8765 - val_accuracy: 0.6460\n",
            "Epoch 42/125\n",
            "20/20 [==============================] - 5s 250ms/step - loss: 0.9209 - accuracy: 0.6288 - val_loss: 0.9621 - val_accuracy: 0.6070\n",
            "Epoch 43/125\n",
            "20/20 [==============================] - 5s 251ms/step - loss: 0.9419 - accuracy: 0.6198 - val_loss: 0.8832 - val_accuracy: 0.6470\n",
            "Epoch 44/125\n",
            "20/20 [==============================] - 5s 250ms/step - loss: 0.9127 - accuracy: 0.6363 - val_loss: 0.8770 - val_accuracy: 0.6400\n",
            "Epoch 45/125\n",
            "20/20 [==============================] - 5s 248ms/step - loss: 0.8996 - accuracy: 0.6380 - val_loss: 0.8852 - val_accuracy: 0.6360\n",
            "Epoch 46/125\n",
            "20/20 [==============================] - 5s 250ms/step - loss: 0.8974 - accuracy: 0.6327 - val_loss: 0.8972 - val_accuracy: 0.6210\n",
            "Epoch 47/125\n",
            "20/20 [==============================] - 5s 249ms/step - loss: 0.9071 - accuracy: 0.6320 - val_loss: 0.8952 - val_accuracy: 0.6510\n",
            "Epoch 48/125\n",
            "20/20 [==============================] - 5s 249ms/step - loss: 0.8980 - accuracy: 0.6425 - val_loss: 0.8878 - val_accuracy: 0.6360\n",
            "Epoch 49/125\n",
            "20/20 [==============================] - 5s 251ms/step - loss: 0.8928 - accuracy: 0.6432 - val_loss: 0.8832 - val_accuracy: 0.6470\n",
            "Epoch 50/125\n",
            "20/20 [==============================] - 5s 249ms/step - loss: 0.8767 - accuracy: 0.6440 - val_loss: 0.8641 - val_accuracy: 0.6410\n",
            "Epoch 51/125\n",
            "20/20 [==============================] - 5s 249ms/step - loss: 0.8895 - accuracy: 0.6373 - val_loss: 1.0299 - val_accuracy: 0.5940\n",
            "Epoch 52/125\n",
            "20/20 [==============================] - 5s 249ms/step - loss: 0.9072 - accuracy: 0.6375 - val_loss: 0.8793 - val_accuracy: 0.6420\n",
            "Epoch 53/125\n",
            "20/20 [==============================] - 5s 248ms/step - loss: 0.8846 - accuracy: 0.6363 - val_loss: 0.8527 - val_accuracy: 0.6490\n",
            "Epoch 54/125\n",
            "20/20 [==============================] - 5s 249ms/step - loss: 0.8776 - accuracy: 0.6342 - val_loss: 0.8866 - val_accuracy: 0.6280\n",
            "Epoch 55/125\n",
            "20/20 [==============================] - 5s 249ms/step - loss: 0.8839 - accuracy: 0.6440 - val_loss: 0.8742 - val_accuracy: 0.6390\n",
            "Epoch 56/125\n",
            "20/20 [==============================] - 5s 249ms/step - loss: 0.8775 - accuracy: 0.6455 - val_loss: 0.9640 - val_accuracy: 0.5870\n",
            "Epoch 57/125\n",
            "20/20 [==============================] - 5s 249ms/step - loss: 0.8735 - accuracy: 0.6432 - val_loss: 0.8811 - val_accuracy: 0.6450\n",
            "Epoch 58/125\n",
            "20/20 [==============================] - 5s 251ms/step - loss: 0.8753 - accuracy: 0.6432 - val_loss: 0.8639 - val_accuracy: 0.6460\n",
            "Epoch 59/125\n",
            "20/20 [==============================] - 5s 250ms/step - loss: 0.8608 - accuracy: 0.6540 - val_loss: 0.8488 - val_accuracy: 0.6490\n",
            "Epoch 60/125\n",
            "20/20 [==============================] - 5s 251ms/step - loss: 0.8499 - accuracy: 0.6530 - val_loss: 0.8828 - val_accuracy: 0.6410\n",
            "Epoch 61/125\n",
            "20/20 [==============================] - 5s 249ms/step - loss: 0.8682 - accuracy: 0.6475 - val_loss: 0.8675 - val_accuracy: 0.6440\n",
            "Epoch 62/125\n",
            "20/20 [==============================] - 5s 250ms/step - loss: 0.8839 - accuracy: 0.6440 - val_loss: 0.8954 - val_accuracy: 0.6290\n",
            "Epoch 63/125\n",
            "20/20 [==============================] - 5s 247ms/step - loss: 0.8739 - accuracy: 0.6518 - val_loss: 0.9203 - val_accuracy: 0.6260\n",
            "Epoch 64/125\n",
            "20/20 [==============================] - 5s 248ms/step - loss: 0.8658 - accuracy: 0.6618 - val_loss: 0.8638 - val_accuracy: 0.6500\n",
            "Epoch 65/125\n",
            "20/20 [==============================] - 5s 249ms/step - loss: 0.8549 - accuracy: 0.6600 - val_loss: 0.8457 - val_accuracy: 0.6560\n",
            "Epoch 66/125\n",
            "20/20 [==============================] - 5s 250ms/step - loss: 0.8373 - accuracy: 0.6660 - val_loss: 0.8479 - val_accuracy: 0.6430\n",
            "Epoch 67/125\n",
            "20/20 [==============================] - 5s 247ms/step - loss: 0.8464 - accuracy: 0.6525 - val_loss: 0.9211 - val_accuracy: 0.6460\n",
            "Epoch 68/125\n",
            "20/20 [==============================] - 5s 251ms/step - loss: 0.8408 - accuracy: 0.6647 - val_loss: 0.8429 - val_accuracy: 0.6650\n",
            "Epoch 69/125\n",
            "20/20 [==============================] - 5s 247ms/step - loss: 0.8424 - accuracy: 0.6555 - val_loss: 0.8724 - val_accuracy: 0.6510\n",
            "Epoch 70/125\n",
            "20/20 [==============================] - 5s 249ms/step - loss: 0.8497 - accuracy: 0.6507 - val_loss: 0.8728 - val_accuracy: 0.6490\n",
            "Epoch 71/125\n",
            "20/20 [==============================] - 5s 247ms/step - loss: 0.8352 - accuracy: 0.6628 - val_loss: 0.8456 - val_accuracy: 0.6590\n",
            "Epoch 72/125\n",
            "20/20 [==============================] - 5s 248ms/step - loss: 0.8371 - accuracy: 0.6580 - val_loss: 0.8631 - val_accuracy: 0.6590\n",
            "Epoch 73/125\n",
            "20/20 [==============================] - 5s 249ms/step - loss: 0.8280 - accuracy: 0.6645 - val_loss: 0.8594 - val_accuracy: 0.6470\n",
            "Epoch 74/125\n",
            "20/20 [==============================] - 5s 248ms/step - loss: 0.8140 - accuracy: 0.6693 - val_loss: 0.8576 - val_accuracy: 0.6460\n",
            "Epoch 75/125\n",
            "20/20 [==============================] - 5s 248ms/step - loss: 0.8369 - accuracy: 0.6593 - val_loss: 0.8850 - val_accuracy: 0.6340\n",
            "Epoch 76/125\n",
            "20/20 [==============================] - 5s 249ms/step - loss: 0.8438 - accuracy: 0.6603 - val_loss: 0.8622 - val_accuracy: 0.6440\n",
            "Epoch 77/125\n",
            "20/20 [==============================] - 5s 249ms/step - loss: 0.8379 - accuracy: 0.6572 - val_loss: 0.8708 - val_accuracy: 0.6520\n",
            "Epoch 78/125\n",
            "20/20 [==============================] - 5s 249ms/step - loss: 0.8352 - accuracy: 0.6603 - val_loss: 0.8557 - val_accuracy: 0.6530\n",
            "Epoch 79/125\n",
            "20/20 [==============================] - 5s 250ms/step - loss: 0.8086 - accuracy: 0.6683 - val_loss: 0.8595 - val_accuracy: 0.6660\n",
            "Epoch 80/125\n",
            "20/20 [==============================] - 5s 248ms/step - loss: 0.8202 - accuracy: 0.6687 - val_loss: 0.8510 - val_accuracy: 0.6710\n",
            "Epoch 81/125\n",
            "20/20 [==============================] - 5s 247ms/step - loss: 0.8348 - accuracy: 0.6697 - val_loss: 0.8407 - val_accuracy: 0.6560\n",
            "Epoch 82/125\n",
            "20/20 [==============================] - 5s 251ms/step - loss: 0.8037 - accuracy: 0.6840 - val_loss: 0.8400 - val_accuracy: 0.6520\n",
            "Epoch 83/125\n",
            "20/20 [==============================] - 5s 251ms/step - loss: 0.7991 - accuracy: 0.6812 - val_loss: 0.8533 - val_accuracy: 0.6530\n",
            "Epoch 84/125\n",
            "20/20 [==============================] - 5s 249ms/step - loss: 0.7974 - accuracy: 0.6805 - val_loss: 0.8730 - val_accuracy: 0.6520\n",
            "Epoch 85/125\n",
            "20/20 [==============================] - 5s 250ms/step - loss: 0.7947 - accuracy: 0.6790 - val_loss: 0.8485 - val_accuracy: 0.6570\n",
            "Epoch 86/125\n",
            "20/20 [==============================] - 5s 250ms/step - loss: 0.7928 - accuracy: 0.6773 - val_loss: 0.8748 - val_accuracy: 0.6620\n",
            "Epoch 87/125\n",
            "20/20 [==============================] - 5s 250ms/step - loss: 0.8039 - accuracy: 0.6737 - val_loss: 0.8513 - val_accuracy: 0.6690\n",
            "Epoch 88/125\n",
            "20/20 [==============================] - 5s 252ms/step - loss: 0.7856 - accuracy: 0.6908 - val_loss: 0.8487 - val_accuracy: 0.6570\n",
            "Epoch 89/125\n",
            "20/20 [==============================] - 5s 247ms/step - loss: 0.7824 - accuracy: 0.6795 - val_loss: 0.8399 - val_accuracy: 0.6740\n",
            "Epoch 90/125\n",
            "20/20 [==============================] - 5s 248ms/step - loss: 0.7895 - accuracy: 0.6820 - val_loss: 0.9132 - val_accuracy: 0.6310\n",
            "Epoch 91/125\n",
            "20/20 [==============================] - 5s 249ms/step - loss: 0.8102 - accuracy: 0.6743 - val_loss: 0.8458 - val_accuracy: 0.6650\n",
            "Epoch 92/125\n",
            "10/20 [==============>...............] - ETA: 2s - loss: 0.8168 - accuracy: 0.6640"
          ],
          "name": "stdout"
        }
      ]
    },
    {
      "cell_type": "markdown",
      "metadata": {
        "id": "BKs10mE_0kp0",
        "colab_type": "text"
      },
      "source": [
        "###Confusion Matrix (multiclass)"
      ]
    },
    {
      "cell_type": "code",
      "metadata": {
        "id": "8aN_AV5g0n9u",
        "colab_type": "code",
        "colab": {}
      },
      "source": [
        "from sklearn.metrics import confusion_matrix\n",
        "from sklearn.metrics import accuracy_score\n",
        "\n",
        "true_test_labels_multiclass = mocktest_multiclass_labels.argmax(axis = 1)\n",
        "pred_test_labels_multiclass = test_multiclass_pred.argmax(axis = 1)\n",
        "\n",
        "print(\"Confusion matrix: \")\n",
        "mat = confusion_matrix(true_test_labels_multiclass, pred_test_labels_multiclass)\n",
        "print(mat)\n",
        "print(\"Accuracy:\" )\n",
        "acc = accuracy_score(true_test_labels_multiclass, pred_test_labels_multiclass)\n",
        "print(acc)"
      ],
      "execution_count": null,
      "outputs": []
    },
    {
      "cell_type": "code",
      "metadata": {
        "id": "rculy1_ptDHX",
        "colab_type": "code",
        "colab": {}
      },
      "source": [
        "import matplotlib.pyplot as plt\n",
        "\n",
        "# Generate a new figure\n",
        "plt.figure(figsize=(10,10))\n",
        "\n",
        "# Display the confusion matrix\n",
        "plt.imshow(mat, cmap='hot', interpolation='nearest')\n",
        "\n",
        "# Add some anotation for the plot\n",
        "plt.colorbar()\n",
        "plt.xlabel('True label')\n",
        "plt.ylabel('Predicted label')\n",
        "plt.show()"
      ],
      "execution_count": null,
      "outputs": []
    },
    {
      "cell_type": "markdown",
      "metadata": {
        "id": "wuHD2xvyE-Wl",
        "colab_type": "text"
      },
      "source": [
        "###Model Attributes"
      ]
    },
    {
      "cell_type": "code",
      "metadata": {
        "id": "60Fi6lE6FGbz",
        "colab_type": "code",
        "colab": {}
      },
      "source": [
        "# Plot model train/validation accuracy and model train/validation loss\n",
        "# Summarize history for accuracy\n",
        "plt.figure(figsize=(10,8))\n",
        "plt.plot(history.history['accuracy'])\n",
        "plt.plot(history.history['val_accuracy'])\n",
        "plt.title('model accuracy')\n",
        "plt.ylabel('accuracy')\n",
        "plt.xlabel('epoch')\n",
        "plt.legend(['train', 'val'], loc='upper left')\n",
        "plt.show()\n",
        "\n",
        "# Summarize history for loss\n",
        "plt.figure(figsize=(10,8))\n",
        "plt.plot(history.history['loss'])\n",
        "plt.plot(history.history['val_loss'])\n",
        "plt.title('model loss')\n",
        "plt.ylabel('loss')\n",
        "plt.xlabel('epoch')\n",
        "plt.legend(['train', 'val'], loc='upper left')\n",
        "plt.show()"
      ],
      "execution_count": null,
      "outputs": []
    },
    {
      "cell_type": "markdown",
      "metadata": {
        "id": "KQNWA9nDFHxk",
        "colab_type": "text"
      },
      "source": [
        "###ROC Curve"
      ]
    },
    {
      "cell_type": "code",
      "metadata": {
        "id": "9ZPs35iCFJNg",
        "colab_type": "code",
        "colab": {}
      },
      "source": [
        "#need to add\n",
        "test_pred = pd.DataFrame(modelMC.predict(mocktest_data))\n",
        "test_predict = test_pred.idxmax(axis=1)\n",
        "test_labels = [ np.where(label==1)[0][0] for label in mocktest_multiclass_labels]\n",
        "test_labels_one_hot = pd.DataFrame(mocktest_multiclass_labels)\n",
        "\n",
        "\"\"\"\n",
        "test_multiclass_pred = model.predict(mocktest_data)\n",
        "scores = model.evaluate(mocktest_data, mocktest_multiclass_labels, verbose = 0)\n",
        "true_test_labels_multiclass = mocktest_multiclass_labels.argmax(axis = 1)\n",
        "pred_test_labels_multiclass = test_multiclass_pred.argmax(axis = 1)\n",
        "\"\"\"\n",
        "\n",
        "fpr = {}\n",
        "tpr = {}\n",
        "roc_auc = {}\n",
        "\n",
        "stage_dict = {0:'Negative', 1:'Benign Calcification', 2:'Benign Mass', 3:'Malignant Calcification', 4:'Malignant Mass'}\n",
        "\n",
        "plt.figure(figsize=(14,10))\n",
        "for i in range(5):\n",
        "    fpr[i], tpr[i], _ = metrics.roc_curve(test_labels_one_hot.iloc[:, i], test_pred.iloc[:, i])\n",
        "    roc_auc[i] = metrics.auc(fpr[i], tpr[i])\n",
        "    plt.plot(fpr[i], tpr[i], label = stage_dict[i] + ', ' + str(i))\n",
        "\n",
        "plt.plot([0, 1], [0, 1])\n",
        "plt.xlabel('False Positive Rate')\n",
        "plt.ylabel('True Positive Rate')\n",
        "plt.title('Multi-Class ROC Curve')\n",
        "plt.legend()\n",
        "plt.show()\n",
        "\n",
        "fpr[\"micro\"], tpr[\"micro\"], _ = metrics.roc_curve(test_labels_one_hot.values.ravel(), test_pred.values.ravel())\n",
        "roc_auc_agg = metrics.auc(fpr[\"micro\"], tpr[\"micro\"])\n",
        "\n",
        "print(roc_auc_agg)"
      ],
      "execution_count": null,
      "outputs": []
    },
    {
      "cell_type": "markdown",
      "metadata": {
        "id": "ultum1UWTdG7",
        "colab_type": "text"
      },
      "source": [
        "# Submitting your model\n",
        "\n",
        "Once you have finished creating your classifier, you need to use it to classify the test images and make a pickle file containing your models predictions stored as a pandas dataframe. Instructions for how to build the pandas dataframe containing your model's predictions are included below. (Note that the process is demonstrated for the example classifier in the next code cell to help clarify these instructions.)\n",
        "\n",
        "* Create pandas dataframe with 4 columns (or 7 columns for complex lables). One column should contain your model's prediction for each image (represented as an integer) and one column should contain the unique index for that image in the test data (recall that test data indices range from 5500 to 5999). The other columns in the dataframe should contain the probability that the image is classified in each class. **Make sure the unique indices on your dataframe match the unique indices of the images being predicted. The order of rows and columns do not matter, as long as there are 1500 rows and either 4 or 7 columns (depending on which classifier you have made)**. (The below cell demonstrates how to build this dataframe created using the example classifier. You can refer to this code for more clarification of these instructions.)\n",
        " * If your classifier does not compute the probabilities for each class and simply outputs an integer label for the prediction (e.g. 0, 1, 2, 3, or 4 for multiclass classification), the probability for the predicted class should be 1.00 and the probability for all other class(es) should be 0.00 in the dataframe.\n",
        "* Download the pandas dataframe as a pickle file using pickle.dump() and files.download(). (See below cell for clarification on this procedure.)\n",
        "* Submit your pickle file to the submissions channel on the Medlytics 2020 discord channel. You can submit up to 3 times before your final evaluation.\n",
        "\n",
        "Your model will be evaluated on confusion matrix score (explained below), area under the ROC curve (ROCAUC), and creativity.\n"
      ]
    },
    {
      "cell_type": "markdown",
      "metadata": {
        "id": "x8phZzYxs5rm",
        "colab_type": "text"
      },
      "source": [
        "# Example code for saving model predictions on the test set (for submission)"
      ]
    },
    {
      "cell_type": "code",
      "metadata": {
        "id": "ntbJLmh-CrBX",
        "colab_type": "code",
        "colab": {
          "base_uri": "https://localhost:8080/",
          "height": 238
        },
        "outputId": "7eaeca89-4034-4733-f316-a7fc4d8ad5db"
      },
      "source": [
        "### Use the created neural network model to create a set of predictions for the test set\n",
        "\n",
        "#Refer to the dataframe produced by this cell to clarify correct formatting when\n",
        "#submitting pickle files for week 3 challenge (This cell produces dataframe\n",
        "#using the example CNN classifier, but the same dataframe should be produced for\n",
        "#any type of classifier.)\n",
        "\n",
        "#use model.predict to create a set of predictions (onehot encoded)\n",
        "#reshape test_images to 227x227 for AlexNet\n",
        "import skimage.transform as image_transform\n",
        "\n",
        "original_shape = test_images.shape\n",
        "new_shape = list(original_shape)\n",
        "new_shape[1:3] = (227, 227)\n",
        "\n",
        "# Compute if we are downsampling (in which case we need anti-aliasing)\n",
        "scaling_ratio = np.array(new_shape[1:3])/np.array(original_shape[1:3])\n",
        "\n",
        "resize_shape = (227, 227)\n",
        "test_images_resized = np.zeros((test_images.shape[0], ) + resize_shape)\n",
        "anti_alias = np.any(scaling_ratio < 1)\n",
        "\n",
        "for img_num, img_data in enumerate(test_images):\n",
        "  test_images_resized[img_num] = image_transform.resize(img_data, resize_shape, anti_aliasing = anti_alias)\n",
        "\n",
        "test_images = test_images_resized\n",
        "\n",
        "test_predictions_onehot = model.predict(test_images[:,:,:,np.newaxis])\n",
        "\n",
        "def create_test_predictions_df_for_submission(test_predictions_onehot):\n",
        "    test_predictions_df = pd.DataFrame(test_predictions_onehot)\n",
        "\n",
        "    #add a column to dataframe containing the unique index for each sample\n",
        "    test_predictions_df = pd.concat((test_predictions_df, test_images_df[\"Unique_Index\"]), axis = 1)\n",
        "\n",
        "    #add another column to dataframe with an integer representing the guessed class for that example\n",
        "    #(Note this is the number corresponding to the class with highest probability score)\n",
        "    guesses = [np.argmax(test_predictions_onehot[i,:]) for i in range(test_predictions_onehot.shape[0])]\n",
        "    test_predictions_df = pd.concat((test_predictions_df, pd.DataFrame(guesses, columns = ['predicted_class'])), axis = 1)\n",
        "\n",
        "    return test_predictions_df\n",
        "\n",
        "test_predictions_df = create_test_predictions_df_for_submission(test_predictions_onehot)\n",
        "print('This is what the appropriately formatted dataframe should look like:')\n",
        "print('(4 columns total for binary classification, and 7 for multiclass classification)\\n')\n",
        "print(test_predictions_df.head())\n",
        "print('\\n\\n')\n",
        "\n",
        "fname = 'neuro_group_binary_final.p'\n",
        "pickle.dump(test_predictions_df, open(fname, 'wb')) # Creates pickle file in Google Colab but doesn't save to your machine\n",
        "    \n",
        "# Saving to pickle file to local drive (should be in Downloads). \n",
        "# Submit via the Medlytics 2020 \"submissions\" channel on Discord\n",
        "files.download(fname) "
      ],
      "execution_count": null,
      "outputs": [
        {
          "output_type": "stream",
          "text": [
            "This is what the appropriately formatted dataframe should look like:\n",
            "(4 columns total for binary classification, and 7 for multiclass classification)\n",
            "\n",
            "          0             1  Unique_Index  predicted_class\n",
            "0  0.109075  2.558550e-02          5500                0\n",
            "1  0.964060  7.612276e-30          5501                0\n",
            "2  0.636612  8.362839e-08          5502                0\n",
            "3  0.009665  3.482332e-01          5503                1\n",
            "4  0.232444  2.344070e-02          5504                0\n",
            "\n",
            "\n",
            "\n"
          ],
          "name": "stdout"
        },
        {
          "output_type": "display_data",
          "data": {
            "application/javascript": [
              "\n",
              "    async function download(id, filename, size) {\n",
              "      if (!google.colab.kernel.accessAllowed) {\n",
              "        return;\n",
              "      }\n",
              "      const div = document.createElement('div');\n",
              "      const label = document.createElement('label');\n",
              "      label.textContent = `Downloading \"${filename}\": `;\n",
              "      div.appendChild(label);\n",
              "      const progress = document.createElement('progress');\n",
              "      progress.max = size;\n",
              "      div.appendChild(progress);\n",
              "      document.body.appendChild(div);\n",
              "\n",
              "      const buffers = [];\n",
              "      let downloaded = 0;\n",
              "\n",
              "      const channel = await google.colab.kernel.comms.open(id);\n",
              "      // Send a message to notify the kernel that we're ready.\n",
              "      channel.send({})\n",
              "\n",
              "      for await (const message of channel.messages) {\n",
              "        // Send a message to notify the kernel that we're ready.\n",
              "        channel.send({})\n",
              "        if (message.buffers) {\n",
              "          for (const buffer of message.buffers) {\n",
              "            buffers.push(buffer);\n",
              "            downloaded += buffer.byteLength;\n",
              "            progress.value = downloaded;\n",
              "          }\n",
              "        }\n",
              "      }\n",
              "      const blob = new Blob(buffers, {type: 'application/binary'});\n",
              "      const a = document.createElement('a');\n",
              "      a.href = window.URL.createObjectURL(blob);\n",
              "      a.download = filename;\n",
              "      div.appendChild(a);\n",
              "      a.click();\n",
              "      div.remove();\n",
              "    }\n",
              "  "
            ],
            "text/plain": [
              "<IPython.core.display.Javascript object>"
            ]
          },
          "metadata": {
            "tags": []
          }
        },
        {
          "output_type": "display_data",
          "data": {
            "application/javascript": [
              "download(\"download_e6b6d8db-4e94-4076-874d-8db79361229f\", \"neuro_group_binary_final.p\", 37153)"
            ],
            "text/plain": [
              "<IPython.core.display.Javascript object>"
            ]
          },
          "metadata": {
            "tags": []
          }
        }
      ]
    },
    {
      "cell_type": "markdown",
      "metadata": {
        "id": "3S-gd_slKJLc",
        "colab_type": "text"
      },
      "source": [
        "# How Your Model Will Be Evaluated\n",
        "\n",
        " \n",
        "* **Confusion Matrix Score**: You will receive a certain number of points for each correct classification and a certain point penalty for each incorrect classification. The point reward scheme is shown below for both binary and multiclass classifiers. This reward scheme punishes less crucial misclassifications (e.g., misclassifying a Negative scan as a Benign Calcification) much less than it punishes costly misclassifications (e.g., misclassifying a Malignant Calcification as a Negative). In this way, our evaluation metric reflects the practical needs of the classifier in its application to real-world problems. It is our hope that you keep these differential punishments in mind when creating your classifiers. \n",
        "\n",
        "<h3><center>Multi-class Confusion Matrix Scoring</center></h3>\n",
        "<center>\n",
        "<img src=\"https://github.com/BeaverWorksMedlytics2020/Data_Public/raw/master/Images/Week3/Week3_Challenge_ConfMatrixTable.svg\" width = 500>\n",
        "</center>\n",
        "\n",
        "<br>\n",
        "<br>\n",
        "\n",
        "<h3><center>Binary Confusion Matrix Scoring</center></h3>\n",
        "<center>\n",
        "<img src=\"https://github.com/BeaverWorksMedlytics2020/Data_Public/raw/master/Images/Week3/Week3_Challenge_ConfMatrixTable_binary.svg\" width = 250>\n",
        "</center>\n",
        "\n",
        "<br>\n",
        "<br>\n",
        "\n",
        "* **Area Under ROC Curve:** The receiver operating characteristic (ROC) curve plots the true positive rate (sensitivity/recall) against the false positive rate (fall-out) at many decision threshold settings. The area under the curve (AUC) measures discrimination, the classifier's ability to correctly identify samples from the \"positive\" and \"negative\" cases. Intuitively, AUC is the probability that a randomly chosen \"positive\" sample will be labeled as \"more positive\" than a randomly chosen \"negative\" sample. In the case of a multi-class ROC curve, each class is considered separately before taking the weighted average of all the class results. Simply put, the class under consideration is labeled as \"positive\" while all other classes are labeled as \"negative.\" The AUCROC score should be between 0.5 and 1, in which 0.5 is random classification and 1 is perfect classification.\n",
        "\n",
        "<h3><center>Example ROC Curve</center></h3>\n",
        " <center><img src=\"http://fastml.com/images/auc/roc_curve.png\"></center>\n",
        "\n",
        "(In the image above, the dashed line represents a classifier that classifies based purely on chance. The perfect classifier will have a line that passes through the top left corner of the graph (true positive rate = 1, false positive rate = 0) and will have a ROCAUC (ROC Area Under Curve) of 1.)\n",
        " \n",
        "\n",
        " \n",
        " Using the test data, the example classifier above performs thus on these metrics:\n",
        "  * Confusion Matrix Score: 757\n",
        "  * ROCAUC: 0.827\n"
      ]
    },
    {
      "cell_type": "markdown",
      "metadata": {
        "id": "5b7MS4h1DNiT",
        "colab_type": "text"
      },
      "source": [
        "## Example code showing calculation of evaluation metrics (binary classifier)"
      ]
    },
    {
      "cell_type": "code",
      "metadata": {
        "id": "3m0kCY5mZsse",
        "colab_type": "code",
        "colab": {}
      },
      "source": [
        "# Use ground_truth_labels and predicted_labels to calculate confusion matrix\n",
        "#\n",
        "# Note: When your model is tested, the ground_truth_labels will be the test_labels\n",
        "# and the predicted_labels will be your models predicted labels on the test set.\n",
        "# To demonstrate the calculation however, we will use other data to populate \n",
        "# ground_truth_labels and predicted_labels.\n",
        "#\n",
        "# Variable definitions\n",
        "#-------------------------------------\n",
        "# ground_truth_labels - 1D array where ith element is an integer representing \n",
        "# the true label of example i\n",
        "#\n",
        "# predicted_labels - 1D array where ith element is an integer representing the\n",
        "# predicted class of example i\n",
        "\n",
        "#In this cell we treat mocktest_data and mocketst_binary_labels as if it were\n",
        "#the real data used to score the preliminary binary classification model\n",
        "\n",
        "\n",
        "#Note: the argmax procedure effectively converts back from onehot encoding to \n",
        "#numerical encoding. We need to do this for the true labels and for the \n",
        "#predicted labels to use confusion_matrix function\n",
        "ground_truth_onehot = mocktest_binary_labels\n",
        "ground_truth_labels = np.array([np.argmax(ground_truth_onehot[i, :])\n",
        "                               for i in range(mocktest_binary_labels.shape[0])])\n",
        "\n",
        "predicted_onehot = model.predict(mocktest_data)\n",
        "predicted_labels = np.array([np.argmax(predicted_onehot[i, :]) \n",
        "                            for i in range(predicted_onehot.shape[0])], dtype = np.int8)\n"
      ],
      "execution_count": null,
      "outputs": []
    },
    {
      "cell_type": "code",
      "metadata": {
        "id": "fQq_lY-ccStc",
        "colab_type": "code",
        "colab": {
          "base_uri": "https://localhost:8080/",
          "height": 34
        },
        "outputId": "95eb6109-91fb-4fc5-ec20-4924187c5882"
      },
      "source": [
        "##--Confusion Matrix Score for Binary Classifier--\n",
        "\n",
        "binary_confmat_weights = np.array([[2, -3],\n",
        "                                  [-6, 2]])\n",
        "\n",
        "confmat = confusion_matrix(ground_truth_labels, predicted_labels) # confusion_matrix is a function from sklearn.metrics and it automatically\n",
        "                                                                  # constructs a confusion matrix for any number of classes \n",
        "                                                                  # Documentation: http://scikit-learn.org/stable/modules/generated/sklearn.metrics.confusion_matrix.html\n",
        "\n",
        "# Simply multiply two matrices elementwise, and then sum all the results\n",
        "confmat_score = np.sum(confmat * binary_confmat_weights)\n",
        "\n",
        "#--ROCAUC for Binary Classifier--\n",
        "false_positive_rate, true_positive_rate, thresholds = metrics.roc_curve(ground_truth_labels, predicted_labels, pos_label=1)\n",
        "roc_auc = metrics.auc(false_positive_rate, true_positive_rate)    # roc_curve() and auc() are also functions from sklearn.metrics. roc_curve calculates true and flase positive\n",
        "                                                                  # rates over many theshold values. pos_label = 1 specifies that in the labels a 1\n",
        "                                                                  # denotes a positive example (and anything less denotes a negative example). auc() simply calculates the AUC.\n",
        "                                                                  # Documentation:\n",
        "                                                                  # roc_curve(): http://scikit-learn.org/stable/modules/generated/sklearn.metrics.roc_curve.html\n",
        "                                                                  # auc(): http://scikit-learn.org/stable/modules/generated/sklearn.metrics.auc.html\n",
        "\n",
        "print(f'Confusion Matrix Score: {confmat_score}, ROCAUC: {roc_auc:.3f}')\n"
      ],
      "execution_count": null,
      "outputs": [
        {
          "output_type": "stream",
          "text": [
            "Confusion Matrix Score: 599, ROCAUC: 0.861\n"
          ],
          "name": "stdout"
        }
      ]
    },
    {
      "cell_type": "markdown",
      "metadata": {
        "id": "9WmcuzMdgVSN",
        "colab_type": "text"
      },
      "source": [
        "## Example code showing calculation of evaluation metrics (multiclass classifier)"
      ]
    },
    {
      "cell_type": "code",
      "metadata": {
        "id": "jWzmgwePgW0c",
        "colab_type": "code",
        "colab": {}
      },
      "source": [
        "# Use ground_truth_labels and predicted_labels to calculate confusion matrix\n",
        "#\n",
        "# Note: When your model is tested, the ground_truth_labels will be the test_labels\n",
        "# and the predicted_labels will be your models predicted labels on the test set.\n",
        "# To demonstrate the calculation however, we will use other data to populate \n",
        "# ground_truth_labels and predicted_labels.\n",
        "#\n",
        "# Variable definitions\n",
        "#-------------------------------------\n",
        "# ground_truth_labels - 1D array where ith element is an integer representing \n",
        "# the true label of example i\n",
        "#\n",
        "# predicted_labels - 1D array where ith element is an integer representing the\n",
        "# predicted class of example i\n",
        "\n",
        "# Because a classifier wasn't trained for the multiclass problem (in the starter\n",
        "# code anyway) we will quickly define ground_truth_labels and predicted_labels\n",
        "# with dummy values\n",
        "\n",
        "\"\"\"\n",
        "test_multiclass_pred = model.predict(mocktest_data)\n",
        "scores = model.evaluate(mocktest_data, mocktest_multiclass_labels, verbose = 0)\n",
        "true_test_labels_multiclass = mocktest_multiclass_labels.argmax(axis = 1)\n",
        "pred_test_labels_multiclass = test_multiclass_pred.argmax(axis = 1)\n",
        "\"\"\"\n",
        "\n",
        "ground_truth_labels = true_test_labels_multiclass\n",
        "ground_truth_labels_onehot = np.eye(5)[ground_truth_labels.astype(np.uint8)]\n",
        "\n",
        "predicted_labels = pred_test_labels_multiclass #prediction is always class 0 (this is a very naiive predictor)\n",
        "prediction_scores = np.eye(5)[predicted_labels] #Row i of this matrix is the likelyhood 'score' for example i in each of the classes"
      ],
      "execution_count": null,
      "outputs": []
    },
    {
      "cell_type": "code",
      "metadata": {
        "id": "O3HyjrjKoYBp",
        "colab_type": "code",
        "colab": {
          "base_uri": "https://localhost:8080/",
          "height": 34
        },
        "outputId": "15a369a1-d554-4324-ff24-f05a54a7c168"
      },
      "source": [
        "#--Confusion Matrix Score for Multiclass Classifier--\n",
        "\n",
        "multiclass_confmat_weights = np.array([[2,-1,-1,-3,-3],\n",
        "                                    [-2,2,-1,-3,-3],\n",
        "                                    [-2,-1,2,-3,-3],\n",
        "                                    [-6,-4,-4,2,-2],\n",
        "                                    [-6,-4,-4,-2,2]])\n",
        "\n",
        "confmat = confusion_matrix(ground_truth_labels, predicted_labels)\n",
        "  \n",
        "confmat_score = np.sum(confmat * multiclass_confmat_weights)\n",
        "\n",
        "\n",
        "      \n",
        "#--ROCAUC for Multiclass Classifier--\n",
        "  # ROCAUC for multiclass classifiers are calculated by treating each class as a binary classification (this class or all other classes) and micro-averaging \n",
        "  # each class's ROCAUC to get a total ROCAUC\n",
        "false_positive_rate = dict()\n",
        "true_positive_rate = dict()\n",
        "roc_auc = dict()\n",
        "for i in range(5):  # looping through each of 5 classes and getting false and true positive rates and calculating ROCAUC for each class\n",
        "  false_positive_rate[i], true_positive_rate[i], _ = metrics.roc_curve(ground_truth_labels_onehot[:,i], prediction_scores[:,i]) # Because labels are not binary, \n",
        "  roc_auc[i] = metrics.auc(false_positive_rate[i], true_positive_rate[i])                                                    # they need to be One Hot Vectors (ex. 2 = [0,0,1,0,0])\n",
        "                                                                                                                     # prediction_scores are the predicted 'probability'\n",
        "                                                                                                                     # that the example belongs to each of the 5 classes\n",
        "false_positive_rate[\"micro\"], true_positive_rate[\"micro\"], _ = metrics.roc_curve(ground_truth_labels_onehot.ravel(), prediction_scores.ravel())\n",
        "roc_auc = metrics.auc(false_positive_rate[\"micro\"], true_positive_rate[\"micro\"]) # micro-averaging averages the ROCAUCs from each class weighted \n",
        "                                                                         # according to number of example in that class\n",
        "   \n",
        "print(f'Multiclass Confusion Matrix Score: {confmat_score}, c: {roc_auc:.3f}')"
      ],
      "execution_count": null,
      "outputs": [
        {
          "output_type": "stream",
          "text": [
            "Multiclass Confusion Matrix Score: 129, c: 0.775\n"
          ],
          "name": "stdout"
        }
      ]
    },
    {
      "cell_type": "markdown",
      "metadata": {
        "id": "mkJcTaUvc2uG",
        "colab_type": "text"
      },
      "source": [
        "# Troubleshooting tips\n",
        "\n",
        "- If you try to plot the images using matplotlib  you may notice that it will invert the grayscale values when it plots. You can fix this by plotting 255 - pixel_values or by adding the argument `cmap='gray'` to your imshow function (as I did when visualizing the images).\n",
        "\n",
        "- If you get an \"ResourcesExhausted\" error, this means you have used all the GPU resources dedicated to your session and you will need to restart your runtime (Runtime > Restart Runtime). After restarting your runtime your environment will be wiped so you will need to reload the data.\n",
        "\n",
        "- If you get a warning window that says you are close to reaching the session's memory limit, this means you are nearing a ResourcesExhausted error. You can still run code until the error occurs, but note that you will likely need to restart your runtime soon.\n",
        "\n",
        "- ResourcesExhausted errors will only occur if you're using GPU support.\n",
        "\n",
        "- Google Colab will end your runtime automatically after 24 hours\n",
        "\n",
        "- If things seem really slow, double check that you're using the GPU\n",
        "\n",
        "- If you are close to using all available ram, try to double check the memory being consumed by different variables using the provided cell below"
      ]
    },
    {
      "cell_type": "code",
      "metadata": {
        "id": "JyavuR7Gz8nP",
        "colab_type": "code",
        "colab": {}
      },
      "source": [
        "# If you find yourself running out of ram below is a useful method to print out \n",
        "# the sizes of the variables in your workspace\n",
        "\n",
        "import sys\n",
        "def sizeof_fmt(num, suffix='B'):\n",
        "    ''' by Fred Cirera,  https://stackoverflow.com/a/1094933/1870254, modified'''\n",
        "    for unit in ['','Ki','Mi','Gi','Ti','Pi','Ei','Zi']:\n",
        "        if abs(num) < 1024.0:\n",
        "            return \"%3.1f %s%s\" % (num, unit, suffix)\n",
        "        num /= 1024.0\n",
        "    return \"%.1f %s%s\" % (num, 'Yi', suffix)\n",
        "\n",
        "for name, size in sorted(((name, sys.getsizeof(value)) for name, value in locals().items()),\n",
        "                         key= lambda x: -x[1])[:10]:\n",
        "    print(\"{:>30}: {:>8}\".format(name, sizeof_fmt(size)))\n",
        "\n",
        "type(train_images[0,:,:])"
      ],
      "execution_count": null,
      "outputs": []
    }
  ]
}